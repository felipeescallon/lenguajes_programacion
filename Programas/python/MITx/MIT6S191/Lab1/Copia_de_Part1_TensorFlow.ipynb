{
  "nbformat": 4,
  "nbformat_minor": 0,
  "metadata": {
    "colab": {
      "name": "Copia de Part1_TensorFlow.ipynb",
      "provenance": [],
      "collapsed_sections": []
    },
    "kernelspec": {
      "name": "python3",
      "display_name": "Python 3"
    },
    "accelerator": "GPU"
  },
  "cells": [
    {
      "cell_type": "markdown",
      "metadata": {
        "id": "WBk0ZDWY-ff8"
      },
      "source": [
        "<table align=\"center\">\n",
        "  <td align=\"center\"><a target=\"_blank\" href=\"http://introtodeeplearning.com\">\n",
        "        <img src=\"https://i.ibb.co/Jr88sn2/mit.png\" style=\"padding-bottom:5px;\" />\n",
        "      Visit MIT Deep Learning</a></td>\n",
        "  <td align=\"center\"><a target=\"_blank\" href=\"https://colab.research.google.com/github/aamini/introtodeeplearning/blob/master/lab1/Part1_TensorFlow.ipynb\">\n",
        "        <img src=\"https://i.ibb.co/2P3SLwK/colab.png\"  style=\"padding-bottom:5px;\" />Run in Google Colab</a></td>\n",
        "  <td align=\"center\"><a target=\"_blank\" href=\"https://github.com/aamini/introtodeeplearning/blob/master/lab1/Part1_TensorFlow.ipynb\">\n",
        "        <img src=\"https://i.ibb.co/xfJbPmL/github.png\"  height=\"70px\" style=\"padding-bottom:5px;\"  />View Source on GitHub</a></td>\n",
        "</table>\n",
        "\n",
        "\n",
        "# Copyright Information\n"
      ]
    },
    {
      "cell_type": "code",
      "metadata": {
        "id": "3eI6DUic-6jo"
      },
      "source": [
        "# Copyright 2021 MIT 6.S191 Introduction to Deep Learning. All Rights Reserved.\n",
        "# \n",
        "# Licensed under the MIT License. You may not use this file except in compliance\n",
        "# with the License. Use and/or modification of this code outside of 6.S191 must\n",
        "# reference:\n",
        "#\n",
        "# © MIT 6.S191: Introduction to Deep Learning\n",
        "# http://introtodeeplearning.com\n",
        "#"
      ],
      "execution_count": null,
      "outputs": []
    },
    {
      "cell_type": "markdown",
      "metadata": {
        "id": "57knM8jrYZ2t"
      },
      "source": [
        "# Lab 1: Intro to TensorFlow and Music Generation with RNNs\n",
        "\n",
        "In this lab, you'll get exposure to using TensorFlow and learn how it can be used for solving deep learning tasks. Go through the code and run each cell. Along the way, you'll encounter several ***TODO*** blocks -- follow the instructions to fill them out before running those cells and continuing.\n",
        "\n",
        "\n",
        "# Part 1: Intro to TensorFlow\n",
        "\n",
        "## 0.1 Install TensorFlow\n",
        "\n",
        "TensorFlow is a software library extensively used in machine learning. Here we'll learn how computations are represented and how to define a simple neural network in TensorFlow. For all the labs in 6.S191 2021, we'll be using the latest version of TensorFlow, TensorFlow 2, which affords great flexibility and the ability to imperatively execute operations, just like in Python. You'll notice that TensorFlow 2 is quite similar to Python in its syntax and imperative execution. Let's install TensorFlow and a couple of dependencies.\n"
      ]
    },
    {
      "cell_type": "code",
      "metadata": {
        "id": "LkaimNJfYZ2w",
        "colab": {
          "base_uri": "https://localhost:8080/"
        },
        "outputId": "abedbd11-ea70-448c-ed60-588ac3a54c8c"
      },
      "source": [
        "%tensorflow_version 2.x\n",
        "import tensorflow as tf\n",
        "\n",
        "# Download and import the MIT 6.S191 package\n",
        "!pip install mitdeeplearning\n",
        "import mitdeeplearning as mdl\n",
        "\n",
        "import numpy as np\n",
        "import matplotlib.pyplot as plt"
      ],
      "execution_count": null,
      "outputs": [
        {
          "output_type": "stream",
          "text": [
            "Collecting mitdeeplearning\n",
            "\u001b[?25l  Downloading https://files.pythonhosted.org/packages/9d/ad/650eb53c0d9d1213536fe94bc150f89b564ff5ee784bd662272584bb091b/mitdeeplearning-0.2.0.tar.gz (2.1MB)\n",
            "\r\u001b[K     |▏                               | 10kB 21.8MB/s eta 0:00:01\r\u001b[K     |▎                               | 20kB 29.1MB/s eta 0:00:01\r\u001b[K     |▌                               | 30kB 23.9MB/s eta 0:00:01\r\u001b[K     |▋                               | 40kB 27.6MB/s eta 0:00:01\r\u001b[K     |▉                               | 51kB 26.2MB/s eta 0:00:01\r\u001b[K     |█                               | 61kB 28.4MB/s eta 0:00:01\r\u001b[K     |█                               | 71kB 18.8MB/s eta 0:00:01\r\u001b[K     |█▎                              | 81kB 19.9MB/s eta 0:00:01\r\u001b[K     |█▍                              | 92kB 21.0MB/s eta 0:00:01\r\u001b[K     |█▋                              | 102kB 22.4MB/s eta 0:00:01\r\u001b[K     |█▊                              | 112kB 22.4MB/s eta 0:00:01\r\u001b[K     |█▉                              | 122kB 22.4MB/s eta 0:00:01\r\u001b[K     |██                              | 133kB 22.4MB/s eta 0:00:01\r\u001b[K     |██▏                             | 143kB 22.4MB/s eta 0:00:01\r\u001b[K     |██▍                             | 153kB 22.4MB/s eta 0:00:01\r\u001b[K     |██▌                             | 163kB 22.4MB/s eta 0:00:01\r\u001b[K     |██▋                             | 174kB 22.4MB/s eta 0:00:01\r\u001b[K     |██▉                             | 184kB 22.4MB/s eta 0:00:01\r\u001b[K     |███                             | 194kB 22.4MB/s eta 0:00:01\r\u001b[K     |███▏                            | 204kB 22.4MB/s eta 0:00:01\r\u001b[K     |███▎                            | 215kB 22.4MB/s eta 0:00:01\r\u001b[K     |███▌                            | 225kB 22.4MB/s eta 0:00:01\r\u001b[K     |███▋                            | 235kB 22.4MB/s eta 0:00:01\r\u001b[K     |███▊                            | 245kB 22.4MB/s eta 0:00:01\r\u001b[K     |████                            | 256kB 22.4MB/s eta 0:00:01\r\u001b[K     |████                            | 266kB 22.4MB/s eta 0:00:01\r\u001b[K     |████▎                           | 276kB 22.4MB/s eta 0:00:01\r\u001b[K     |████▍                           | 286kB 22.4MB/s eta 0:00:01\r\u001b[K     |████▌                           | 296kB 22.4MB/s eta 0:00:01\r\u001b[K     |████▊                           | 307kB 22.4MB/s eta 0:00:01\r\u001b[K     |████▉                           | 317kB 22.4MB/s eta 0:00:01\r\u001b[K     |█████                           | 327kB 22.4MB/s eta 0:00:01\r\u001b[K     |█████▏                          | 337kB 22.4MB/s eta 0:00:01\r\u001b[K     |█████▎                          | 348kB 22.4MB/s eta 0:00:01\r\u001b[K     |█████▌                          | 358kB 22.4MB/s eta 0:00:01\r\u001b[K     |█████▋                          | 368kB 22.4MB/s eta 0:00:01\r\u001b[K     |█████▉                          | 378kB 22.4MB/s eta 0:00:01\r\u001b[K     |██████                          | 389kB 22.4MB/s eta 0:00:01\r\u001b[K     |██████▏                         | 399kB 22.4MB/s eta 0:00:01\r\u001b[K     |██████▎                         | 409kB 22.4MB/s eta 0:00:01\r\u001b[K     |██████▍                         | 419kB 22.4MB/s eta 0:00:01\r\u001b[K     |██████▋                         | 430kB 22.4MB/s eta 0:00:01\r\u001b[K     |██████▊                         | 440kB 22.4MB/s eta 0:00:01\r\u001b[K     |███████                         | 450kB 22.4MB/s eta 0:00:01\r\u001b[K     |███████                         | 460kB 22.4MB/s eta 0:00:01\r\u001b[K     |███████▏                        | 471kB 22.4MB/s eta 0:00:01\r\u001b[K     |███████▍                        | 481kB 22.4MB/s eta 0:00:01\r\u001b[K     |███████▌                        | 491kB 22.4MB/s eta 0:00:01\r\u001b[K     |███████▊                        | 501kB 22.4MB/s eta 0:00:01\r\u001b[K     |███████▉                        | 512kB 22.4MB/s eta 0:00:01\r\u001b[K     |████████                        | 522kB 22.4MB/s eta 0:00:01\r\u001b[K     |████████▏                       | 532kB 22.4MB/s eta 0:00:01\r\u001b[K     |████████▎                       | 542kB 22.4MB/s eta 0:00:01\r\u001b[K     |████████▌                       | 552kB 22.4MB/s eta 0:00:01\r\u001b[K     |████████▋                       | 563kB 22.4MB/s eta 0:00:01\r\u001b[K     |████████▉                       | 573kB 22.4MB/s eta 0:00:01\r\u001b[K     |█████████                       | 583kB 22.4MB/s eta 0:00:01\r\u001b[K     |█████████                       | 593kB 22.4MB/s eta 0:00:01\r\u001b[K     |█████████▎                      | 604kB 22.4MB/s eta 0:00:01\r\u001b[K     |█████████▍                      | 614kB 22.4MB/s eta 0:00:01\r\u001b[K     |█████████▋                      | 624kB 22.4MB/s eta 0:00:01\r\u001b[K     |█████████▊                      | 634kB 22.4MB/s eta 0:00:01\r\u001b[K     |█████████▉                      | 645kB 22.4MB/s eta 0:00:01\r\u001b[K     |██████████                      | 655kB 22.4MB/s eta 0:00:01\r\u001b[K     |██████████▏                     | 665kB 22.4MB/s eta 0:00:01\r\u001b[K     |██████████▍                     | 675kB 22.4MB/s eta 0:00:01\r\u001b[K     |██████████▌                     | 686kB 22.4MB/s eta 0:00:01\r\u001b[K     |██████████▋                     | 696kB 22.4MB/s eta 0:00:01\r\u001b[K     |██████████▉                     | 706kB 22.4MB/s eta 0:00:01\r\u001b[K     |███████████                     | 716kB 22.4MB/s eta 0:00:01\r\u001b[K     |███████████▏                    | 727kB 22.4MB/s eta 0:00:01\r\u001b[K     |███████████▎                    | 737kB 22.4MB/s eta 0:00:01\r\u001b[K     |███████████▍                    | 747kB 22.4MB/s eta 0:00:01\r\u001b[K     |███████████▋                    | 757kB 22.4MB/s eta 0:00:01\r\u001b[K     |███████████▊                    | 768kB 22.4MB/s eta 0:00:01\r\u001b[K     |████████████                    | 778kB 22.4MB/s eta 0:00:01\r\u001b[K     |████████████                    | 788kB 22.4MB/s eta 0:00:01\r\u001b[K     |████████████▎                   | 798kB 22.4MB/s eta 0:00:01\r\u001b[K     |████████████▍                   | 808kB 22.4MB/s eta 0:00:01\r\u001b[K     |████████████▌                   | 819kB 22.4MB/s eta 0:00:01\r\u001b[K     |████████████▊                   | 829kB 22.4MB/s eta 0:00:01\r\u001b[K     |████████████▉                   | 839kB 22.4MB/s eta 0:00:01\r\u001b[K     |█████████████                   | 849kB 22.4MB/s eta 0:00:01\r\u001b[K     |█████████████▏                  | 860kB 22.4MB/s eta 0:00:01\r\u001b[K     |█████████████▎                  | 870kB 22.4MB/s eta 0:00:01\r\u001b[K     |█████████████▌                  | 880kB 22.4MB/s eta 0:00:01\r\u001b[K     |█████████████▋                  | 890kB 22.4MB/s eta 0:00:01\r\u001b[K     |█████████████▉                  | 901kB 22.4MB/s eta 0:00:01\r\u001b[K     |██████████████                  | 911kB 22.4MB/s eta 0:00:01\r\u001b[K     |██████████████                  | 921kB 22.4MB/s eta 0:00:01\r\u001b[K     |██████████████▎                 | 931kB 22.4MB/s eta 0:00:01\r\u001b[K     |██████████████▍                 | 942kB 22.4MB/s eta 0:00:01\r\u001b[K     |██████████████▋                 | 952kB 22.4MB/s eta 0:00:01\r\u001b[K     |██████████████▊                 | 962kB 22.4MB/s eta 0:00:01\r\u001b[K     |███████████████                 | 972kB 22.4MB/s eta 0:00:01\r\u001b[K     |███████████████                 | 983kB 22.4MB/s eta 0:00:01\r\u001b[K     |███████████████▏                | 993kB 22.4MB/s eta 0:00:01\r\u001b[K     |███████████████▍                | 1.0MB 22.4MB/s eta 0:00:01\r\u001b[K     |███████████████▌                | 1.0MB 22.4MB/s eta 0:00:01\r\u001b[K     |███████████████▊                | 1.0MB 22.4MB/s eta 0:00:01\r\u001b[K     |███████████████▉                | 1.0MB 22.4MB/s eta 0:00:01\r\u001b[K     |████████████████                | 1.0MB 22.4MB/s eta 0:00:01\r\u001b[K     |████████████████▏               | 1.1MB 22.4MB/s eta 0:00:01\r\u001b[K     |████████████████▎               | 1.1MB 22.4MB/s eta 0:00:01\r\u001b[K     |████████████████▌               | 1.1MB 22.4MB/s eta 0:00:01\r\u001b[K     |████████████████▋               | 1.1MB 22.4MB/s eta 0:00:01\r\u001b[K     |████████████████▊               | 1.1MB 22.4MB/s eta 0:00:01\r\u001b[K     |█████████████████               | 1.1MB 22.4MB/s eta 0:00:01\r\u001b[K     |█████████████████               | 1.1MB 22.4MB/s eta 0:00:01\r\u001b[K     |█████████████████▎              | 1.1MB 22.4MB/s eta 0:00:01\r\u001b[K     |█████████████████▍              | 1.1MB 22.4MB/s eta 0:00:01\r\u001b[K     |█████████████████▋              | 1.1MB 22.4MB/s eta 0:00:01\r\u001b[K     |█████████████████▊              | 1.2MB 22.4MB/s eta 0:00:01\r\u001b[K     |█████████████████▉              | 1.2MB 22.4MB/s eta 0:00:01\r\u001b[K     |██████████████████              | 1.2MB 22.4MB/s eta 0:00:01\r\u001b[K     |██████████████████▏             | 1.2MB 22.4MB/s eta 0:00:01\r\u001b[K     |██████████████████▍             | 1.2MB 22.4MB/s eta 0:00:01\r\u001b[K     |██████████████████▌             | 1.2MB 22.4MB/s eta 0:00:01\r\u001b[K     |██████████████████▋             | 1.2MB 22.4MB/s eta 0:00:01\r\u001b[K     |██████████████████▉             | 1.2MB 22.4MB/s eta 0:00:01\r\u001b[K     |███████████████████             | 1.2MB 22.4MB/s eta 0:00:01\r\u001b[K     |███████████████████▏            | 1.2MB 22.4MB/s eta 0:00:01\r\u001b[K     |███████████████████▎            | 1.3MB 22.4MB/s eta 0:00:01\r\u001b[K     |███████████████████▍            | 1.3MB 22.4MB/s eta 0:00:01\r\u001b[K     |███████████████████▋            | 1.3MB 22.4MB/s eta 0:00:01\r\u001b[K     |███████████████████▊            | 1.3MB 22.4MB/s eta 0:00:01\r\u001b[K     |████████████████████            | 1.3MB 22.4MB/s eta 0:00:01\r\u001b[K     |████████████████████            | 1.3MB 22.4MB/s eta 0:00:01\r\u001b[K     |████████████████████▎           | 1.3MB 22.4MB/s eta 0:00:01\r\u001b[K     |████████████████████▍           | 1.3MB 22.4MB/s eta 0:00:01\r\u001b[K     |████████████████████▌           | 1.3MB 22.4MB/s eta 0:00:01\r\u001b[K     |████████████████████▊           | 1.4MB 22.4MB/s eta 0:00:01\r\u001b[K     |████████████████████▉           | 1.4MB 22.4MB/s eta 0:00:01\r\u001b[K     |█████████████████████           | 1.4MB 22.4MB/s eta 0:00:01\r\u001b[K     |█████████████████████▏          | 1.4MB 22.4MB/s eta 0:00:01\r\u001b[K     |█████████████████████▎          | 1.4MB 22.4MB/s eta 0:00:01\r\u001b[K     |█████████████████████▌          | 1.4MB 22.4MB/s eta 0:00:01\r\u001b[K     |█████████████████████▋          | 1.4MB 22.4MB/s eta 0:00:01\r\u001b[K     |█████████████████████▉          | 1.4MB 22.4MB/s eta 0:00:01\r\u001b[K     |██████████████████████          | 1.4MB 22.4MB/s eta 0:00:01\r\u001b[K     |██████████████████████          | 1.4MB 22.4MB/s eta 0:00:01\r\u001b[K     |██████████████████████▎         | 1.5MB 22.4MB/s eta 0:00:01\r\u001b[K     |██████████████████████▍         | 1.5MB 22.4MB/s eta 0:00:01\r\u001b[K     |██████████████████████▋         | 1.5MB 22.4MB/s eta 0:00:01\r\u001b[K     |██████████████████████▊         | 1.5MB 22.4MB/s eta 0:00:01\r\u001b[K     |██████████████████████▉         | 1.5MB 22.4MB/s eta 0:00:01\r\u001b[K     |███████████████████████         | 1.5MB 22.4MB/s eta 0:00:01\r\u001b[K     |███████████████████████▏        | 1.5MB 22.4MB/s eta 0:00:01\r\u001b[K     |███████████████████████▍        | 1.5MB 22.4MB/s eta 0:00:01\r\u001b[K     |███████████████████████▌        | 1.5MB 22.4MB/s eta 0:00:01\r\u001b[K     |███████████████████████▊        | 1.5MB 22.4MB/s eta 0:00:01\r\u001b[K     |███████████████████████▉        | 1.6MB 22.4MB/s eta 0:00:01\r\u001b[K     |████████████████████████        | 1.6MB 22.4MB/s eta 0:00:01\r\u001b[K     |████████████████████████▏       | 1.6MB 22.4MB/s eta 0:00:01\r\u001b[K     |████████████████████████▎       | 1.6MB 22.4MB/s eta 0:00:01\r\u001b[K     |████████████████████████▌       | 1.6MB 22.4MB/s eta 0:00:01\r\u001b[K     |████████████████████████▋       | 1.6MB 22.4MB/s eta 0:00:01\r\u001b[K     |████████████████████████▊       | 1.6MB 22.4MB/s eta 0:00:01\r\u001b[K     |█████████████████████████       | 1.6MB 22.4MB/s eta 0:00:01\r\u001b[K     |█████████████████████████       | 1.6MB 22.4MB/s eta 0:00:01\r\u001b[K     |█████████████████████████▎      | 1.6MB 22.4MB/s eta 0:00:01\r\u001b[K     |█████████████████████████▍      | 1.7MB 22.4MB/s eta 0:00:01\r\u001b[K     |█████████████████████████▌      | 1.7MB 22.4MB/s eta 0:00:01\r\u001b[K     |█████████████████████████▊      | 1.7MB 22.4MB/s eta 0:00:01\r\u001b[K     |█████████████████████████▉      | 1.7MB 22.4MB/s eta 0:00:01\r\u001b[K     |██████████████████████████      | 1.7MB 22.4MB/s eta 0:00:01\r\u001b[K     |██████████████████████████▏     | 1.7MB 22.4MB/s eta 0:00:01\r\u001b[K     |██████████████████████████▍     | 1.7MB 22.4MB/s eta 0:00:01\r\u001b[K     |██████████████████████████▌     | 1.7MB 22.4MB/s eta 0:00:01\r\u001b[K     |██████████████████████████▋     | 1.7MB 22.4MB/s eta 0:00:01\r\u001b[K     |██████████████████████████▉     | 1.8MB 22.4MB/s eta 0:00:01\r\u001b[K     |███████████████████████████     | 1.8MB 22.4MB/s eta 0:00:01\r\u001b[K     |███████████████████████████▏    | 1.8MB 22.4MB/s eta 0:00:01\r\u001b[K     |███████████████████████████▎    | 1.8MB 22.4MB/s eta 0:00:01\r\u001b[K     |███████████████████████████▍    | 1.8MB 22.4MB/s eta 0:00:01\r\u001b[K     |███████████████████████████▋    | 1.8MB 22.4MB/s eta 0:00:01\r\u001b[K     |███████████████████████████▊    | 1.8MB 22.4MB/s eta 0:00:01\r\u001b[K     |████████████████████████████    | 1.8MB 22.4MB/s eta 0:00:01\r\u001b[K     |████████████████████████████    | 1.8MB 22.4MB/s eta 0:00:01\r\u001b[K     |████████████████████████████▏   | 1.8MB 22.4MB/s eta 0:00:01\r\u001b[K     |████████████████████████████▍   | 1.9MB 22.4MB/s eta 0:00:01\r\u001b[K     |████████████████████████████▌   | 1.9MB 22.4MB/s eta 0:00:01\r\u001b[K     |████████████████████████████▊   | 1.9MB 22.4MB/s eta 0:00:01\r\u001b[K     |████████████████████████████▉   | 1.9MB 22.4MB/s eta 0:00:01\r\u001b[K     |█████████████████████████████   | 1.9MB 22.4MB/s eta 0:00:01\r\u001b[K     |█████████████████████████████▏  | 1.9MB 22.4MB/s eta 0:00:01\r\u001b[K     |█████████████████████████████▎  | 1.9MB 22.4MB/s eta 0:00:01\r\u001b[K     |█████████████████████████████▌  | 1.9MB 22.4MB/s eta 0:00:01\r\u001b[K     |█████████████████████████████▋  | 1.9MB 22.4MB/s eta 0:00:01\r\u001b[K     |█████████████████████████████▉  | 1.9MB 22.4MB/s eta 0:00:01\r\u001b[K     |██████████████████████████████  | 2.0MB 22.4MB/s eta 0:00:01\r\u001b[K     |██████████████████████████████  | 2.0MB 22.4MB/s eta 0:00:01\r\u001b[K     |██████████████████████████████▎ | 2.0MB 22.4MB/s eta 0:00:01\r\u001b[K     |██████████████████████████████▍ | 2.0MB 22.4MB/s eta 0:00:01\r\u001b[K     |██████████████████████████████▋ | 2.0MB 22.4MB/s eta 0:00:01\r\u001b[K     |██████████████████████████████▊ | 2.0MB 22.4MB/s eta 0:00:01\r\u001b[K     |██████████████████████████████▉ | 2.0MB 22.4MB/s eta 0:00:01\r\u001b[K     |███████████████████████████████ | 2.0MB 22.4MB/s eta 0:00:01\r\u001b[K     |███████████████████████████████▏| 2.0MB 22.4MB/s eta 0:00:01\r\u001b[K     |███████████████████████████████▍| 2.0MB 22.4MB/s eta 0:00:01\r\u001b[K     |███████████████████████████████▌| 2.1MB 22.4MB/s eta 0:00:01\r\u001b[K     |███████████████████████████████▊| 2.1MB 22.4MB/s eta 0:00:01\r\u001b[K     |███████████████████████████████▉| 2.1MB 22.4MB/s eta 0:00:01\r\u001b[K     |████████████████████████████████| 2.1MB 22.4MB/s eta 0:00:01\r\u001b[K     |████████████████████████████████| 2.1MB 22.4MB/s \n",
            "\u001b[?25hRequirement already satisfied: numpy in /usr/local/lib/python3.7/dist-packages (from mitdeeplearning) (1.19.5)\n",
            "Requirement already satisfied: regex in /usr/local/lib/python3.7/dist-packages (from mitdeeplearning) (2019.12.20)\n",
            "Requirement already satisfied: tqdm in /usr/local/lib/python3.7/dist-packages (from mitdeeplearning) (4.41.1)\n",
            "Requirement already satisfied: gym in /usr/local/lib/python3.7/dist-packages (from mitdeeplearning) (0.17.3)\n",
            "Requirement already satisfied: scipy in /usr/local/lib/python3.7/dist-packages (from gym->mitdeeplearning) (1.4.1)\n",
            "Requirement already satisfied: cloudpickle<1.7.0,>=1.2.0 in /usr/local/lib/python3.7/dist-packages (from gym->mitdeeplearning) (1.3.0)\n",
            "Requirement already satisfied: pyglet<=1.5.0,>=1.4.0 in /usr/local/lib/python3.7/dist-packages (from gym->mitdeeplearning) (1.5.0)\n",
            "Requirement already satisfied: future in /usr/local/lib/python3.7/dist-packages (from pyglet<=1.5.0,>=1.4.0->gym->mitdeeplearning) (0.16.0)\n",
            "Building wheels for collected packages: mitdeeplearning\n",
            "  Building wheel for mitdeeplearning (setup.py) ... \u001b[?25l\u001b[?25hdone\n",
            "  Created wheel for mitdeeplearning: filename=mitdeeplearning-0.2.0-cp37-none-any.whl size=2115442 sha256=4f34a9095a9ffc57013136750c6cc5ddd695646de9bb3218f0a693f20d81a794\n",
            "  Stored in directory: /root/.cache/pip/wheels/af/dc/2a/5c3633135e7e4ef4fd31463cfa1942cb1bae7486ab94e7a2ad\n",
            "Successfully built mitdeeplearning\n",
            "Installing collected packages: mitdeeplearning\n",
            "Successfully installed mitdeeplearning-0.2.0\n"
          ],
          "name": "stdout"
        }
      ]
    },
    {
      "cell_type": "markdown",
      "metadata": {
        "id": "2QNMcdP4m3Vs"
      },
      "source": [
        "## 1.1 Why is TensorFlow called TensorFlow?\n",
        "\n",
        "TensorFlow is called 'TensorFlow' because it handles the flow (node/mathematical operation) of Tensors, which are data structures that you can think of as multi-dimensional arrays. Tensors are represented as n-dimensional arrays of base dataypes such as a string or integer -- they provide a way to generalize vectors and matrices to higher dimensions.\n",
        "\n",
        "The ```shape``` of a Tensor defines its number of dimensions and the size of each dimension. The ```rank``` of a Tensor provides the number of dimensions (n-dimensions) -- you can also think of this as the Tensor's order or degree.\n",
        "\n",
        "Let's first look at 0-d Tensors, of which a scalar is an example:"
      ]
    },
    {
      "cell_type": "code",
      "metadata": {
        "id": "tFxztZQInlAB",
        "colab": {
          "base_uri": "https://localhost:8080/"
        },
        "outputId": "97086c64-5f66-4787-e353-5cba9e79c442"
      },
      "source": [
        "sport = tf.constant(\"Tennis\", tf.string)\n",
        "number = tf.constant(1.41421356237, tf.float64)\n",
        "\n",
        "print(\"`sport` is a {}-d Tensor\".format(tf.rank(sport).numpy()))\n",
        "print(\"`number` is a {}-d Tensor\".format(tf.rank(number).numpy()))"
      ],
      "execution_count": null,
      "outputs": [
        {
          "output_type": "stream",
          "text": [
            "`sport` is a 0-d Tensor\n",
            "`number` is a 0-d Tensor\n"
          ],
          "name": "stdout"
        }
      ]
    },
    {
      "cell_type": "code",
      "metadata": {
        "colab": {
          "base_uri": "https://localhost:8080/"
        },
        "id": "QYQk1SqiRlZL",
        "outputId": "66e41a00-6c62-4dca-e323-cc7bc367e922"
      },
      "source": [
        "print(\"sport: \", sport)\r\n",
        "print()\r\n",
        "number"
      ],
      "execution_count": null,
      "outputs": [
        {
          "output_type": "stream",
          "text": [
            "sport:  tf.Tensor(b'Tennis', shape=(), dtype=string)\n",
            "\n"
          ],
          "name": "stdout"
        },
        {
          "output_type": "execute_result",
          "data": {
            "text/plain": [
              "<tf.Tensor: shape=(), dtype=float64, numpy=1.41421356237>"
            ]
          },
          "metadata": {
            "tags": []
          },
          "execution_count": 9
        }
      ]
    },
    {
      "cell_type": "code",
      "metadata": {
        "id": "fDlH5E6fQ6xf"
      },
      "source": [
        "#rank 0 ~ NO brackets"
      ],
      "execution_count": null,
      "outputs": []
    },
    {
      "cell_type": "markdown",
      "metadata": {
        "id": "-dljcPUcoJZ6"
      },
      "source": [
        "Vectors and lists can be used to create 1-d Tensors:"
      ]
    },
    {
      "cell_type": "code",
      "metadata": {
        "id": "oaHXABe8oPcO",
        "colab": {
          "base_uri": "https://localhost:8080/"
        },
        "outputId": "2dad1911-3e40-4c0c-c332-df6405a47e6f"
      },
      "source": [
        "sports = tf.constant([\"Tennis\", \"Basketball\"], tf.string)\n",
        "numbers = tf.constant([3.141592, 1.414213, 2.71821], tf.float64)\n",
        "\n",
        "print(\"`sports` is a {}-d Tensor with shape: {}\".format(tf.rank(sports).numpy(), tf.shape(sports)))\n",
        "print(\"`numbers` is a {}-d Tensor with shape: {}\".format(tf.rank(numbers).numpy(), tf.shape(numbers)))"
      ],
      "execution_count": null,
      "outputs": [
        {
          "output_type": "stream",
          "text": [
            "`sports` is a 1-d Tensor with shape: [2]\n",
            "`numbers` is a 1-d Tensor with shape: [3]\n"
          ],
          "name": "stdout"
        }
      ]
    },
    {
      "cell_type": "code",
      "metadata": {
        "colab": {
          "base_uri": "https://localhost:8080/"
        },
        "id": "ld6PDRMeR4_X",
        "outputId": "94d36998-881d-4fd5-8396-ae0fc0cad957"
      },
      "source": [
        "print(\"sports: \", sports)\r\n",
        "print()\r\n",
        "numbers"
      ],
      "execution_count": null,
      "outputs": [
        {
          "output_type": "stream",
          "text": [
            "sports:  tf.Tensor([b'Tennis' b'Basketball'], shape=(2,), dtype=string)\n",
            "\n"
          ],
          "name": "stdout"
        },
        {
          "output_type": "execute_result",
          "data": {
            "text/plain": [
              "<tf.Tensor: shape=(3,), dtype=float64, numpy=array([3.141592, 1.414213, 2.71821 ])>"
            ]
          },
          "metadata": {
            "tags": []
          },
          "execution_count": 12
        }
      ]
    },
    {
      "cell_type": "code",
      "metadata": {
        "colab": {
          "base_uri": "https://localhost:8080/"
        },
        "id": "iXt5MSRAFhzr",
        "outputId": "0f7cf5e3-7e4c-42ab-e4d9-31f978f4e35c"
      },
      "source": [
        "#mine 0-d tensor and 1-d tensor:\r\n",
        "\r\n",
        "\r\n",
        "# example of a 0x0 matriz which is also a 0-d tensor (rank 0 ~ NO brackets: NO arrays, and shape []: 0 arrays, it is just a scalar)\r\n",
        "matrix0d = tf.constant(1,tf.int64)          # 0 arrays, es un escalar (etiquetado como \"1\")\r\n",
        "\r\n",
        "# example of a 1x4 matriz which is also a 1-d tensor (rank 1 ~ []: only one array, and shape [4]: 1 arrays of 4 elements)\r\n",
        "#1 matriz de 1x4 es realmente un vector fila (de 4 columnas) que contiene escalares como elementos del mismo\r\n",
        "matrix1d = tf.constant([1,1,1,1],tf.int64)  # 1 array de 4 elementos (cada elemento es un escalar etiquetado como \"1\")\r\n",
        "\r\n",
        "print(\"`matrix0d` is a {}-d Tensor with shape: {}\".format(tf.rank(matrix0d).numpy(), tf.shape(matrix0d)))\r\n",
        "print(\"`matrix1d` is a {}-d Tensor with shape: {}\".format(tf.rank(matrix1d).numpy(), tf.shape(matrix1d)))\r\n",
        "\r\n"
      ],
      "execution_count": null,
      "outputs": [
        {
          "output_type": "stream",
          "text": [
            "`matrix0d` is a 0-d Tensor with shape: []\n",
            "`matrix1d` is a 1-d Tensor with shape: [4]\n"
          ],
          "name": "stdout"
        }
      ]
    },
    {
      "cell_type": "code",
      "metadata": {
        "colab": {
          "base_uri": "https://localhost:8080/"
        },
        "id": "9-x-nhizSK6m",
        "outputId": "a2a7c21b-ac47-4002-c9aa-946678bb7d1f"
      },
      "source": [
        "print(\"matrix0d: \", matrix0d)\r\n",
        "print()\r\n",
        "matrix1d"
      ],
      "execution_count": null,
      "outputs": [
        {
          "output_type": "stream",
          "text": [
            "matrix0d:  tf.Tensor(1, shape=(), dtype=int64)\n",
            "\n"
          ],
          "name": "stdout"
        },
        {
          "output_type": "execute_result",
          "data": {
            "text/plain": [
              "<tf.Tensor: shape=(4,), dtype=int64, numpy=array([1, 1, 1, 1])>"
            ]
          },
          "metadata": {
            "tags": []
          },
          "execution_count": 14
        }
      ]
    },
    {
      "cell_type": "markdown",
      "metadata": {
        "id": "gvffwkvtodLP"
      },
      "source": [
        "Next we consider creating 2-d (i.e., matrices) and higher-rank Tensors. For examples, in future labs involving image processing and computer vision, we will use 4-d Tensors. Here the dimensions correspond to the number of example images in our batch, image height, image width, and the number of color channels."
      ]
    },
    {
      "cell_type": "code",
      "metadata": {
        "id": "nSsZr0p5Q2EX"
      },
      "source": [
        "#rank 1~[]"
      ],
      "execution_count": null,
      "outputs": []
    },
    {
      "cell_type": "code",
      "metadata": {
        "id": "tFeBBe1IouS3"
      },
      "source": [
        "### Defining higher-order Tensors ###\n",
        "\n",
        "'''TODO: Define a 2-d Tensor'''\n",
        "# matrix = # TODO\n",
        "\n",
        "# example of a 3x4 matriz which is also a 2-d tensor (rank 2 ~[[]]: an array containing other arrays, and shape [3 4]: 3 arrays of 4 elements each)\n",
        "matrix = tf.constant([[1,1,1,1],[2,2,2,2],[3,3,3,3]],tf.int64) # it covers the numbers 1 to 3 (take the multiplication of all \"elements\" of shape, except the last one, so here it is just 3)\n",
        "\n",
        "assert isinstance(matrix, tf.Tensor), \"matrix must be a tf Tensor object\"\n",
        "assert tf.rank(matrix).numpy() == 2"
      ],
      "execution_count": null,
      "outputs": []
    },
    {
      "cell_type": "markdown",
      "metadata": {
        "id": "dX5F5EVEPeGV"
      },
      "source": [
        "***El assert es una instruccion de python que te permite definir condiciones que deban cumplirse siempre. En caso que la expresion booleana sea True assert no hace nada y en caso de False dispara una excepcion.***"
      ]
    },
    {
      "cell_type": "code",
      "metadata": {
        "colab": {
          "base_uri": "https://localhost:8080/"
        },
        "id": "Gh-3PwY-Pa9x",
        "outputId": "b7661bb4-1bea-4d04-ff80-99843f4f626a"
      },
      "source": [
        "isinstance(matrix, tf.Tensor) == True"
      ],
      "execution_count": null,
      "outputs": [
        {
          "output_type": "execute_result",
          "data": {
            "text/plain": [
              "True"
            ]
          },
          "metadata": {
            "tags": []
          },
          "execution_count": 17
        }
      ]
    },
    {
      "cell_type": "code",
      "metadata": {
        "colab": {
          "base_uri": "https://localhost:8080/"
        },
        "id": "eONcElQjO_Oa",
        "outputId": "df111852-ff28-41a8-e47a-3bf2e6be6e12"
      },
      "source": [
        "tf.rank(matrix).numpy() == 2"
      ],
      "execution_count": null,
      "outputs": [
        {
          "output_type": "execute_result",
          "data": {
            "text/plain": [
              "True"
            ]
          },
          "metadata": {
            "tags": []
          },
          "execution_count": 18
        }
      ]
    },
    {
      "cell_type": "code",
      "metadata": {
        "colab": {
          "base_uri": "https://localhost:8080/"
        },
        "id": "qetsENVxO_kO",
        "outputId": "d2ac6bfe-6b1f-4787-d37b-4f8b54ab8fb6"
      },
      "source": [
        "print(\"`matrix` is a {}-d Tensor with shape: {}\".format(tf.rank(matrix).numpy(), tf.shape(matrix)))"
      ],
      "execution_count": null,
      "outputs": [
        {
          "output_type": "stream",
          "text": [
            "`matrix` is a 2-d Tensor with shape: [3 4]\n"
          ],
          "name": "stdout"
        }
      ]
    },
    {
      "cell_type": "code",
      "metadata": {
        "colab": {
          "base_uri": "https://localhost:8080/"
        },
        "id": "NqKObm1-ST5h",
        "outputId": "799f19e7-08c6-4701-8d53-8697562674ae"
      },
      "source": [
        "matrix"
      ],
      "execution_count": null,
      "outputs": [
        {
          "output_type": "execute_result",
          "data": {
            "text/plain": [
              "<tf.Tensor: shape=(3, 4), dtype=int64, numpy=\n",
              "array([[1, 1, 1, 1],\n",
              "       [2, 2, 2, 2],\n",
              "       [3, 3, 3, 3]])>"
            ]
          },
          "metadata": {
            "tags": []
          },
          "execution_count": 20
        }
      ]
    },
    {
      "cell_type": "markdown",
      "metadata": {
        "id": "xwZ5-wwwP-rQ"
      },
      "source": [
        "**Remember:** The ```shape``` of a Tensor defines its number of dimensions and the size of each dimension. The ```rank``` of a Tensor provides the number of dimensions (n-dimensions) -- you can also think of this as the Tensor's order or degree."
      ]
    },
    {
      "cell_type": "code",
      "metadata": {
        "id": "Ug3YnNE85AsM"
      },
      "source": [
        "'''Let myself define a 3-d Tensor'''\r\n",
        "\r\n",
        "# example of a 3x4 matriz x depth(=2) which is also a 3-d tensor (rank 3 ~[[[]]]: an array containing other arrays that also contain other ones, and shape [2 3 4]: 2 arrays of 3 arrays of 4 elements each)\r\n",
        "matrix3d = tf.constant([ [[1,1,1,1],[2,2,2,2],[3,3,3,3]], [[4,4,4,4],[5,5,5,5],[6,6,6,6]] ],tf.int64) # it covers the numbers 1 to 6 (take the multiplication of all \"elements\" of shape, except the last one, so here it is 2x3=6)\r\n",
        "\r\n",
        "assert isinstance(matrix3d, tf.Tensor), \"matrix must be a tf Tensor object\"\r\n",
        "assert tf.rank(matrix3d).numpy() == 3"
      ],
      "execution_count": null,
      "outputs": []
    },
    {
      "cell_type": "code",
      "metadata": {
        "colab": {
          "base_uri": "https://localhost:8080/"
        },
        "id": "hJUMKNTe6oun",
        "outputId": "43d0fa16-8a3f-4d89-e100-e7705c222082"
      },
      "source": [
        "isinstance(matrix3d, tf.Tensor) == True"
      ],
      "execution_count": null,
      "outputs": [
        {
          "output_type": "execute_result",
          "data": {
            "text/plain": [
              "True"
            ]
          },
          "metadata": {
            "tags": []
          },
          "execution_count": 22
        }
      ]
    },
    {
      "cell_type": "code",
      "metadata": {
        "colab": {
          "base_uri": "https://localhost:8080/"
        },
        "id": "FV7OomMf6rwJ",
        "outputId": "d5e160b4-7650-4e22-ba88-a61f3b0513c8"
      },
      "source": [
        "tf.rank(matrix3d).numpy() == 3"
      ],
      "execution_count": null,
      "outputs": [
        {
          "output_type": "execute_result",
          "data": {
            "text/plain": [
              "True"
            ]
          },
          "metadata": {
            "tags": []
          },
          "execution_count": 23
        }
      ]
    },
    {
      "cell_type": "code",
      "metadata": {
        "colab": {
          "base_uri": "https://localhost:8080/"
        },
        "id": "kkEeWNX66wae",
        "outputId": "ee3cfc46-96ec-4c9b-9492-f5dd586c6b89"
      },
      "source": [
        "print(\"`matrix3d` is a {}-d Tensor with shape: {}\".format(tf.rank(matrix3d).numpy(), tf.shape(matrix3d)))"
      ],
      "execution_count": null,
      "outputs": [
        {
          "output_type": "stream",
          "text": [
            "`matrix3d` is a 3-d Tensor with shape: [2 3 4]\n"
          ],
          "name": "stdout"
        }
      ]
    },
    {
      "cell_type": "code",
      "metadata": {
        "colab": {
          "base_uri": "https://localhost:8080/"
        },
        "id": "fKJsKoR8ScW3",
        "outputId": "3f15c361-f7fb-4192-c6ee-5ef93529c0c8"
      },
      "source": [
        "matrix3d"
      ],
      "execution_count": null,
      "outputs": [
        {
          "output_type": "execute_result",
          "data": {
            "text/plain": [
              "<tf.Tensor: shape=(2, 3, 4), dtype=int64, numpy=\n",
              "array([[[1, 1, 1, 1],\n",
              "        [2, 2, 2, 2],\n",
              "        [3, 3, 3, 3]],\n",
              "\n",
              "       [[4, 4, 4, 4],\n",
              "        [5, 5, 5, 5],\n",
              "        [6, 6, 6, 6]]])>"
            ]
          },
          "metadata": {
            "tags": []
          },
          "execution_count": 25
        }
      ]
    },
    {
      "cell_type": "code",
      "metadata": {
        "id": "ObbhMz4JBbAx"
      },
      "source": [
        "'''Let myself define a 4-d Tensor'''\r\n",
        "\r\n",
        "# example of a 3x4 matriz x depth(=2) x another_dim(x5) which is also a 4-d tensor (rank 4 ~[[[[[]]]]]: an array containing other arrays that also contain other ones and so on..., and shape [5 2 3 4]:5 arrays of 2 arrays of 3 arrays of 4 elements each)\r\n",
        "# it covers the numbers 1 to 30 (take the multiplication of all \"elements\" of shape, except the last one, so here it is 5x2x3=30)\r\n",
        "matrix4d = tf.constant([  [ [[1,1,1,1],[2,2,2,2],[3,3,3,3]], [[4,4,4,4],[5,5,5,5],[6,6,6,6]] ],  [ [[7,7,7,7],[8,8,8,8],[9,9,9,9]], [[10,10,10,10],[11,11,11,11],[12,12,12,12]] ],   [ [[13,13,13,13],[14,14,14,14],[15,15,15,15]], [[16,16,16,16],[17,17,17,17],[18,18,18,18]] ],  [ [[19,19,19,19],[20,20,20,20],[21,21,21,21]], [[22,22,22,22],[23,23,23,23],[24,24,24,24]] ],  [ [[25,25,25,25],[26,26,26,26],[27,27,27,27]], [[28,28,28,28],[29,29,29,29],[30,30,30,30]] ] ],tf.int64) \r\n",
        "\r\n",
        "assert isinstance(matrix4d, tf.Tensor), \"matrix must be a tf Tensor object\"\r\n",
        "assert tf.rank(matrix4d).numpy() == 4"
      ],
      "execution_count": null,
      "outputs": []
    },
    {
      "cell_type": "code",
      "metadata": {
        "colab": {
          "base_uri": "https://localhost:8080/"
        },
        "id": "XDc6CbKMJO86",
        "outputId": "2f1b6ef3-5315-4481-db99-cc0863bf0dd2"
      },
      "source": [
        "isinstance(matrix4d, tf.Tensor) == True"
      ],
      "execution_count": null,
      "outputs": [
        {
          "output_type": "execute_result",
          "data": {
            "text/plain": [
              "True"
            ]
          },
          "metadata": {
            "tags": []
          },
          "execution_count": 27
        }
      ]
    },
    {
      "cell_type": "code",
      "metadata": {
        "colab": {
          "base_uri": "https://localhost:8080/"
        },
        "id": "OMA2Ky73JQ-J",
        "outputId": "dc545348-dfa6-464d-e9ee-1a11ac823443"
      },
      "source": [
        "tf.rank(matrix4d).numpy() == 4"
      ],
      "execution_count": null,
      "outputs": [
        {
          "output_type": "execute_result",
          "data": {
            "text/plain": [
              "True"
            ]
          },
          "metadata": {
            "tags": []
          },
          "execution_count": 28
        }
      ]
    },
    {
      "cell_type": "code",
      "metadata": {
        "colab": {
          "base_uri": "https://localhost:8080/"
        },
        "id": "TE7GNAByJTi4",
        "outputId": "1f38a03e-44a3-4473-a8ca-74cb4ae35417"
      },
      "source": [
        "print(\"`matrix4d` is a {}-d Tensor with shape: {}\".format(tf.rank(matrix4d).numpy(), tf.shape(matrix4d)))"
      ],
      "execution_count": null,
      "outputs": [
        {
          "output_type": "stream",
          "text": [
            "`matrix4d` is a 4-d Tensor with shape: [5 2 3 4]\n"
          ],
          "name": "stdout"
        }
      ]
    },
    {
      "cell_type": "code",
      "metadata": {
        "colab": {
          "base_uri": "https://localhost:8080/"
        },
        "id": "_mhOo1whSgbd",
        "outputId": "6f970016-edc3-4956-e472-3a6fa22f6963"
      },
      "source": [
        "matrix4d"
      ],
      "execution_count": null,
      "outputs": [
        {
          "output_type": "execute_result",
          "data": {
            "text/plain": [
              "<tf.Tensor: shape=(5, 2, 3, 4), dtype=int64, numpy=\n",
              "array([[[[ 1,  1,  1,  1],\n",
              "         [ 2,  2,  2,  2],\n",
              "         [ 3,  3,  3,  3]],\n",
              "\n",
              "        [[ 4,  4,  4,  4],\n",
              "         [ 5,  5,  5,  5],\n",
              "         [ 6,  6,  6,  6]]],\n",
              "\n",
              "\n",
              "       [[[ 7,  7,  7,  7],\n",
              "         [ 8,  8,  8,  8],\n",
              "         [ 9,  9,  9,  9]],\n",
              "\n",
              "        [[10, 10, 10, 10],\n",
              "         [11, 11, 11, 11],\n",
              "         [12, 12, 12, 12]]],\n",
              "\n",
              "\n",
              "       [[[13, 13, 13, 13],\n",
              "         [14, 14, 14, 14],\n",
              "         [15, 15, 15, 15]],\n",
              "\n",
              "        [[16, 16, 16, 16],\n",
              "         [17, 17, 17, 17],\n",
              "         [18, 18, 18, 18]]],\n",
              "\n",
              "\n",
              "       [[[19, 19, 19, 19],\n",
              "         [20, 20, 20, 20],\n",
              "         [21, 21, 21, 21]],\n",
              "\n",
              "        [[22, 22, 22, 22],\n",
              "         [23, 23, 23, 23],\n",
              "         [24, 24, 24, 24]]],\n",
              "\n",
              "\n",
              "       [[[25, 25, 25, 25],\n",
              "         [26, 26, 26, 26],\n",
              "         [27, 27, 27, 27]],\n",
              "\n",
              "        [[28, 28, 28, 28],\n",
              "         [29, 29, 29, 29],\n",
              "         [30, 30, 30, 30]]]])>"
            ]
          },
          "metadata": {
            "tags": []
          },
          "execution_count": 30
        }
      ]
    },
    {
      "cell_type": "markdown",
      "metadata": {
        "id": "xOWUmKE_A_01"
      },
      "source": [
        "Como ya no es fácil imaginarse algo físicamente en 4D, aparte de haber definido un tensor 4-d por mi propia imaginación, entonces ahora mejor recurro a otro ejemplo más organizado visualmente para entender más, tomado de:\r\n",
        "\r\n",
        "https://www.kaggle.com/omnamahshivai/4d-tensor-numpy-example"
      ]
    },
    {
      "cell_type": "code",
      "metadata": {
        "colab": {
          "base_uri": "https://localhost:8080/"
        },
        "id": "TdY7Iau2BIxg",
        "outputId": "d3840745-5a26-4690-c452-4e5ae76b5ab6"
      },
      "source": [
        "'''\r\n",
        "Aug12-2018\r\n",
        "Mahesh Babu Mariappan (https://www.linkedin.com/in/mahesh-babu-mariappan)\r\n",
        "Source code for example of a 4d tensor\r\n",
        "results:\r\n",
        "x.shape\r\n",
        "x.ndim\r\n",
        "(4, 2, 3, 4)\r\n",
        "4\r\n",
        "'''\r\n",
        "import numpy as np\r\n",
        "\r\n",
        "x  = np.array(\r\n",
        "\r\n",
        "[\r\n",
        "  [\r\n",
        "              [ [1,2,3,4],\r\n",
        "                [4,5,6,7],\r\n",
        "                [7,6,3,2] ],\r\n",
        "              [ [5,4,5,7],\r\n",
        "                [4,5,7,4],\r\n",
        "                [3,6,4,2] ]\r\n",
        "      ],\r\n",
        "  [\r\n",
        "              [ [1,2,3,4],\r\n",
        "                [4,5,6,7],\r\n",
        "                [7,6,3,2] ],\r\n",
        "              [ [5,4,5,7],\r\n",
        "                [4,5,7,4],\r\n",
        "                [3,6,4,2] ]\r\n",
        "      ],\r\n",
        "  [\r\n",
        "              [ [1,2,3,4],\r\n",
        "                [4,5,6,7],\r\n",
        "                [7,6,3,2] ],\r\n",
        "              [ [5,4,5,7],\r\n",
        "                [4,5,7,4],\r\n",
        "                [3,6,4,2] ]\r\n",
        "      ],\r\n",
        "  [\r\n",
        "              [ [1,2,3,4],\r\n",
        "                [4,5,6,7],\r\n",
        "                [7,6,3,2] ],\r\n",
        "              [ [5,4,5,7],\r\n",
        "                [4,5,7,4],\r\n",
        "                [3,6,4,2] ]\r\n",
        "      ]\r\n",
        "]\r\n",
        " )\r\n",
        "\r\n",
        "print('x.shape: ',x.shape)\r\n",
        "print('x.ndim: ',x.ndim)"
      ],
      "execution_count": null,
      "outputs": [
        {
          "output_type": "stream",
          "text": [
            "x.shape:  (4, 2, 3, 4)\n",
            "x.ndim:  4\n"
          ],
          "name": "stdout"
        }
      ]
    },
    {
      "cell_type": "markdown",
      "metadata": {
        "id": "OjRHsLiBKx5d"
      },
      "source": [
        "**Convirtiendo arrays a tensores (utilizando la función tf convert_to_tensor()):**\r\n"
      ]
    },
    {
      "cell_type": "code",
      "metadata": {
        "colab": {
          "base_uri": "https://localhost:8080/"
        },
        "id": "o4iXlvFPKwu4",
        "outputId": "da2e728a-0e50-42fc-96ce-1127bbb720f0"
      },
      "source": [
        "tensorx = tf.convert_to_tensor(x,tf.int64)\r\n",
        "print(\"`tensorx` is a {}-d Tensor with shape: {}\".format(tf.rank(tensorx).numpy(), tf.shape(tensorx)))\r\n",
        "print()\r\n",
        "print(\"tensorx:\", tensorx)\r\n",
        "print()\r\n",
        "tensorx"
      ],
      "execution_count": null,
      "outputs": [
        {
          "output_type": "stream",
          "text": [
            "`tensorx` is a 4-d Tensor with shape: [4 2 3 4]\n",
            "\n",
            "tensorx: tf.Tensor(\n",
            "[[[[1 2 3 4]\n",
            "   [4 5 6 7]\n",
            "   [7 6 3 2]]\n",
            "\n",
            "  [[5 4 5 7]\n",
            "   [4 5 7 4]\n",
            "   [3 6 4 2]]]\n",
            "\n",
            "\n",
            " [[[1 2 3 4]\n",
            "   [4 5 6 7]\n",
            "   [7 6 3 2]]\n",
            "\n",
            "  [[5 4 5 7]\n",
            "   [4 5 7 4]\n",
            "   [3 6 4 2]]]\n",
            "\n",
            "\n",
            " [[[1 2 3 4]\n",
            "   [4 5 6 7]\n",
            "   [7 6 3 2]]\n",
            "\n",
            "  [[5 4 5 7]\n",
            "   [4 5 7 4]\n",
            "   [3 6 4 2]]]\n",
            "\n",
            "\n",
            " [[[1 2 3 4]\n",
            "   [4 5 6 7]\n",
            "   [7 6 3 2]]\n",
            "\n",
            "  [[5 4 5 7]\n",
            "   [4 5 7 4]\n",
            "   [3 6 4 2]]]], shape=(4, 2, 3, 4), dtype=int64)\n",
            "\n"
          ],
          "name": "stdout"
        },
        {
          "output_type": "execute_result",
          "data": {
            "text/plain": [
              "<tf.Tensor: shape=(4, 2, 3, 4), dtype=int64, numpy=\n",
              "array([[[[1, 2, 3, 4],\n",
              "         [4, 5, 6, 7],\n",
              "         [7, 6, 3, 2]],\n",
              "\n",
              "        [[5, 4, 5, 7],\n",
              "         [4, 5, 7, 4],\n",
              "         [3, 6, 4, 2]]],\n",
              "\n",
              "\n",
              "       [[[1, 2, 3, 4],\n",
              "         [4, 5, 6, 7],\n",
              "         [7, 6, 3, 2]],\n",
              "\n",
              "        [[5, 4, 5, 7],\n",
              "         [4, 5, 7, 4],\n",
              "         [3, 6, 4, 2]]],\n",
              "\n",
              "\n",
              "       [[[1, 2, 3, 4],\n",
              "         [4, 5, 6, 7],\n",
              "         [7, 6, 3, 2]],\n",
              "\n",
              "        [[5, 4, 5, 7],\n",
              "         [4, 5, 7, 4],\n",
              "         [3, 6, 4, 2]]],\n",
              "\n",
              "\n",
              "       [[[1, 2, 3, 4],\n",
              "         [4, 5, 6, 7],\n",
              "         [7, 6, 3, 2]],\n",
              "\n",
              "        [[5, 4, 5, 7],\n",
              "         [4, 5, 7, 4],\n",
              "         [3, 6, 4, 2]]]])>"
            ]
          },
          "metadata": {
            "tags": []
          },
          "execution_count": 32
        }
      ]
    },
    {
      "cell_type": "code",
      "metadata": {
        "id": "Zv1fTn_Ya_cz"
      },
      "source": [
        "'''TODO: Define a 4-d Tensor.'''\n",
        "# Use tf.zeros to initialize a 4-d Tensor of zeros with size 10 x 256 x 256 x 3. \n",
        "#   You can think of this as 10 images where each image is RGB(3) 256 x 256.\n",
        "#images = # TODO\n",
        "\n",
        "# example of a 256x256 (pixelsX,pixelsY) x 3(num_colorsZ:RGB)x 10(num_images) which is also a 4-d tensor (rank 4 ~[[[[]]]]: an array containing other arrays that contain other ones and so on, and shape [10 3 256 256]: 10 images of 3 colors of an square of 256pixels x 256pixels)\n",
        "\n",
        "#tf.zeros(shape, dtype=tf.dtypes.float32, name=None)\n",
        "\n",
        "images = tf.zeros([10, 256, 256, 3], dtype=tf.dtypes.int64) \n",
        "\n",
        "assert isinstance(images, tf.Tensor), \"matrix must be a tf Tensor object\"\n",
        "assert tf.rank(images).numpy() == 4, \"matrix must be of rank 4\"\n",
        "assert tf.shape(images).numpy().tolist() == [10, 256, 256, 3], \"matrix is incorrect shape\" # it does not matter where you play the number 3 (before or after 256x256)"
      ],
      "execution_count": null,
      "outputs": []
    },
    {
      "cell_type": "code",
      "metadata": {
        "colab": {
          "base_uri": "https://localhost:8080/"
        },
        "id": "50dHWIXBPGvK",
        "outputId": "2b1e64ff-1164-4371-ccdf-2ddf74703a0e"
      },
      "source": [
        "isinstance(images, tf.Tensor) == True"
      ],
      "execution_count": null,
      "outputs": [
        {
          "output_type": "execute_result",
          "data": {
            "text/plain": [
              "True"
            ]
          },
          "metadata": {
            "tags": []
          },
          "execution_count": 34
        }
      ]
    },
    {
      "cell_type": "code",
      "metadata": {
        "colab": {
          "base_uri": "https://localhost:8080/"
        },
        "id": "3927ibK3PHg3",
        "outputId": "b7fb2b88-7749-46fe-fdb0-9c3e5b7b4508"
      },
      "source": [
        "tf.rank(images).numpy() == 4 "
      ],
      "execution_count": null,
      "outputs": [
        {
          "output_type": "execute_result",
          "data": {
            "text/plain": [
              "True"
            ]
          },
          "metadata": {
            "tags": []
          },
          "execution_count": 35
        }
      ]
    },
    {
      "cell_type": "code",
      "metadata": {
        "colab": {
          "base_uri": "https://localhost:8080/"
        },
        "id": "5juRPUOLPI-5",
        "outputId": "41a65b81-0041-431d-c076-a29a8bba5b9b"
      },
      "source": [
        "tf.shape(images).numpy().tolist() == [10, 256, 256, 3]"
      ],
      "execution_count": null,
      "outputs": [
        {
          "output_type": "execute_result",
          "data": {
            "text/plain": [
              "True"
            ]
          },
          "metadata": {
            "tags": []
          },
          "execution_count": 36
        }
      ]
    },
    {
      "cell_type": "code",
      "metadata": {
        "colab": {
          "base_uri": "https://localhost:8080/"
        },
        "id": "AWmu_08XPTaY",
        "outputId": "6aebc966-2ccc-4729-936c-86e654dcab48"
      },
      "source": [
        "print(\"`images` is a {}-d Tensor with shape: {}\".format(tf.rank(images).numpy(), tf.shape(images)))"
      ],
      "execution_count": null,
      "outputs": [
        {
          "output_type": "stream",
          "text": [
            "`images` is a 4-d Tensor with shape: [ 10 256 256   3]\n"
          ],
          "name": "stdout"
        }
      ]
    },
    {
      "cell_type": "code",
      "metadata": {
        "colab": {
          "base_uri": "https://localhost:8080/"
        },
        "id": "3178USF5P2sA",
        "outputId": "f9711f44-8f6c-455e-d875-47c5d32df82e"
      },
      "source": [
        "images"
      ],
      "execution_count": null,
      "outputs": [
        {
          "output_type": "execute_result",
          "data": {
            "text/plain": [
              "<tf.Tensor: shape=(10, 256, 256, 3), dtype=int64, numpy=\n",
              "array([[[[0, 0, 0],\n",
              "         [0, 0, 0],\n",
              "         [0, 0, 0],\n",
              "         ...,\n",
              "         [0, 0, 0],\n",
              "         [0, 0, 0],\n",
              "         [0, 0, 0]],\n",
              "\n",
              "        [[0, 0, 0],\n",
              "         [0, 0, 0],\n",
              "         [0, 0, 0],\n",
              "         ...,\n",
              "         [0, 0, 0],\n",
              "         [0, 0, 0],\n",
              "         [0, 0, 0]],\n",
              "\n",
              "        [[0, 0, 0],\n",
              "         [0, 0, 0],\n",
              "         [0, 0, 0],\n",
              "         ...,\n",
              "         [0, 0, 0],\n",
              "         [0, 0, 0],\n",
              "         [0, 0, 0]],\n",
              "\n",
              "        ...,\n",
              "\n",
              "        [[0, 0, 0],\n",
              "         [0, 0, 0],\n",
              "         [0, 0, 0],\n",
              "         ...,\n",
              "         [0, 0, 0],\n",
              "         [0, 0, 0],\n",
              "         [0, 0, 0]],\n",
              "\n",
              "        [[0, 0, 0],\n",
              "         [0, 0, 0],\n",
              "         [0, 0, 0],\n",
              "         ...,\n",
              "         [0, 0, 0],\n",
              "         [0, 0, 0],\n",
              "         [0, 0, 0]],\n",
              "\n",
              "        [[0, 0, 0],\n",
              "         [0, 0, 0],\n",
              "         [0, 0, 0],\n",
              "         ...,\n",
              "         [0, 0, 0],\n",
              "         [0, 0, 0],\n",
              "         [0, 0, 0]]],\n",
              "\n",
              "\n",
              "       [[[0, 0, 0],\n",
              "         [0, 0, 0],\n",
              "         [0, 0, 0],\n",
              "         ...,\n",
              "         [0, 0, 0],\n",
              "         [0, 0, 0],\n",
              "         [0, 0, 0]],\n",
              "\n",
              "        [[0, 0, 0],\n",
              "         [0, 0, 0],\n",
              "         [0, 0, 0],\n",
              "         ...,\n",
              "         [0, 0, 0],\n",
              "         [0, 0, 0],\n",
              "         [0, 0, 0]],\n",
              "\n",
              "        [[0, 0, 0],\n",
              "         [0, 0, 0],\n",
              "         [0, 0, 0],\n",
              "         ...,\n",
              "         [0, 0, 0],\n",
              "         [0, 0, 0],\n",
              "         [0, 0, 0]],\n",
              "\n",
              "        ...,\n",
              "\n",
              "        [[0, 0, 0],\n",
              "         [0, 0, 0],\n",
              "         [0, 0, 0],\n",
              "         ...,\n",
              "         [0, 0, 0],\n",
              "         [0, 0, 0],\n",
              "         [0, 0, 0]],\n",
              "\n",
              "        [[0, 0, 0],\n",
              "         [0, 0, 0],\n",
              "         [0, 0, 0],\n",
              "         ...,\n",
              "         [0, 0, 0],\n",
              "         [0, 0, 0],\n",
              "         [0, 0, 0]],\n",
              "\n",
              "        [[0, 0, 0],\n",
              "         [0, 0, 0],\n",
              "         [0, 0, 0],\n",
              "         ...,\n",
              "         [0, 0, 0],\n",
              "         [0, 0, 0],\n",
              "         [0, 0, 0]]],\n",
              "\n",
              "\n",
              "       [[[0, 0, 0],\n",
              "         [0, 0, 0],\n",
              "         [0, 0, 0],\n",
              "         ...,\n",
              "         [0, 0, 0],\n",
              "         [0, 0, 0],\n",
              "         [0, 0, 0]],\n",
              "\n",
              "        [[0, 0, 0],\n",
              "         [0, 0, 0],\n",
              "         [0, 0, 0],\n",
              "         ...,\n",
              "         [0, 0, 0],\n",
              "         [0, 0, 0],\n",
              "         [0, 0, 0]],\n",
              "\n",
              "        [[0, 0, 0],\n",
              "         [0, 0, 0],\n",
              "         [0, 0, 0],\n",
              "         ...,\n",
              "         [0, 0, 0],\n",
              "         [0, 0, 0],\n",
              "         [0, 0, 0]],\n",
              "\n",
              "        ...,\n",
              "\n",
              "        [[0, 0, 0],\n",
              "         [0, 0, 0],\n",
              "         [0, 0, 0],\n",
              "         ...,\n",
              "         [0, 0, 0],\n",
              "         [0, 0, 0],\n",
              "         [0, 0, 0]],\n",
              "\n",
              "        [[0, 0, 0],\n",
              "         [0, 0, 0],\n",
              "         [0, 0, 0],\n",
              "         ...,\n",
              "         [0, 0, 0],\n",
              "         [0, 0, 0],\n",
              "         [0, 0, 0]],\n",
              "\n",
              "        [[0, 0, 0],\n",
              "         [0, 0, 0],\n",
              "         [0, 0, 0],\n",
              "         ...,\n",
              "         [0, 0, 0],\n",
              "         [0, 0, 0],\n",
              "         [0, 0, 0]]],\n",
              "\n",
              "\n",
              "       ...,\n",
              "\n",
              "\n",
              "       [[[0, 0, 0],\n",
              "         [0, 0, 0],\n",
              "         [0, 0, 0],\n",
              "         ...,\n",
              "         [0, 0, 0],\n",
              "         [0, 0, 0],\n",
              "         [0, 0, 0]],\n",
              "\n",
              "        [[0, 0, 0],\n",
              "         [0, 0, 0],\n",
              "         [0, 0, 0],\n",
              "         ...,\n",
              "         [0, 0, 0],\n",
              "         [0, 0, 0],\n",
              "         [0, 0, 0]],\n",
              "\n",
              "        [[0, 0, 0],\n",
              "         [0, 0, 0],\n",
              "         [0, 0, 0],\n",
              "         ...,\n",
              "         [0, 0, 0],\n",
              "         [0, 0, 0],\n",
              "         [0, 0, 0]],\n",
              "\n",
              "        ...,\n",
              "\n",
              "        [[0, 0, 0],\n",
              "         [0, 0, 0],\n",
              "         [0, 0, 0],\n",
              "         ...,\n",
              "         [0, 0, 0],\n",
              "         [0, 0, 0],\n",
              "         [0, 0, 0]],\n",
              "\n",
              "        [[0, 0, 0],\n",
              "         [0, 0, 0],\n",
              "         [0, 0, 0],\n",
              "         ...,\n",
              "         [0, 0, 0],\n",
              "         [0, 0, 0],\n",
              "         [0, 0, 0]],\n",
              "\n",
              "        [[0, 0, 0],\n",
              "         [0, 0, 0],\n",
              "         [0, 0, 0],\n",
              "         ...,\n",
              "         [0, 0, 0],\n",
              "         [0, 0, 0],\n",
              "         [0, 0, 0]]],\n",
              "\n",
              "\n",
              "       [[[0, 0, 0],\n",
              "         [0, 0, 0],\n",
              "         [0, 0, 0],\n",
              "         ...,\n",
              "         [0, 0, 0],\n",
              "         [0, 0, 0],\n",
              "         [0, 0, 0]],\n",
              "\n",
              "        [[0, 0, 0],\n",
              "         [0, 0, 0],\n",
              "         [0, 0, 0],\n",
              "         ...,\n",
              "         [0, 0, 0],\n",
              "         [0, 0, 0],\n",
              "         [0, 0, 0]],\n",
              "\n",
              "        [[0, 0, 0],\n",
              "         [0, 0, 0],\n",
              "         [0, 0, 0],\n",
              "         ...,\n",
              "         [0, 0, 0],\n",
              "         [0, 0, 0],\n",
              "         [0, 0, 0]],\n",
              "\n",
              "        ...,\n",
              "\n",
              "        [[0, 0, 0],\n",
              "         [0, 0, 0],\n",
              "         [0, 0, 0],\n",
              "         ...,\n",
              "         [0, 0, 0],\n",
              "         [0, 0, 0],\n",
              "         [0, 0, 0]],\n",
              "\n",
              "        [[0, 0, 0],\n",
              "         [0, 0, 0],\n",
              "         [0, 0, 0],\n",
              "         ...,\n",
              "         [0, 0, 0],\n",
              "         [0, 0, 0],\n",
              "         [0, 0, 0]],\n",
              "\n",
              "        [[0, 0, 0],\n",
              "         [0, 0, 0],\n",
              "         [0, 0, 0],\n",
              "         ...,\n",
              "         [0, 0, 0],\n",
              "         [0, 0, 0],\n",
              "         [0, 0, 0]]],\n",
              "\n",
              "\n",
              "       [[[0, 0, 0],\n",
              "         [0, 0, 0],\n",
              "         [0, 0, 0],\n",
              "         ...,\n",
              "         [0, 0, 0],\n",
              "         [0, 0, 0],\n",
              "         [0, 0, 0]],\n",
              "\n",
              "        [[0, 0, 0],\n",
              "         [0, 0, 0],\n",
              "         [0, 0, 0],\n",
              "         ...,\n",
              "         [0, 0, 0],\n",
              "         [0, 0, 0],\n",
              "         [0, 0, 0]],\n",
              "\n",
              "        [[0, 0, 0],\n",
              "         [0, 0, 0],\n",
              "         [0, 0, 0],\n",
              "         ...,\n",
              "         [0, 0, 0],\n",
              "         [0, 0, 0],\n",
              "         [0, 0, 0]],\n",
              "\n",
              "        ...,\n",
              "\n",
              "        [[0, 0, 0],\n",
              "         [0, 0, 0],\n",
              "         [0, 0, 0],\n",
              "         ...,\n",
              "         [0, 0, 0],\n",
              "         [0, 0, 0],\n",
              "         [0, 0, 0]],\n",
              "\n",
              "        [[0, 0, 0],\n",
              "         [0, 0, 0],\n",
              "         [0, 0, 0],\n",
              "         ...,\n",
              "         [0, 0, 0],\n",
              "         [0, 0, 0],\n",
              "         [0, 0, 0]],\n",
              "\n",
              "        [[0, 0, 0],\n",
              "         [0, 0, 0],\n",
              "         [0, 0, 0],\n",
              "         ...,\n",
              "         [0, 0, 0],\n",
              "         [0, 0, 0],\n",
              "         [0, 0, 0]]]])>"
            ]
          },
          "metadata": {
            "tags": []
          },
          "execution_count": 38
        }
      ]
    },
    {
      "cell_type": "code",
      "metadata": {
        "colab": {
          "base_uri": "https://localhost:8080/"
        },
        "id": "_csb5rBKQZ1b",
        "outputId": "dd71a019-1ba0-4768-95f1-3c5490568f12"
      },
      "source": [
        "#images is equivalent to images2\r\n",
        "images2 = tf.zeros([10, 3, 256, 256], dtype=tf.dtypes.int64) # it does not matter where you play the number 3 (before or after 256x256)\r\n",
        "images2"
      ],
      "execution_count": null,
      "outputs": [
        {
          "output_type": "execute_result",
          "data": {
            "text/plain": [
              "<tf.Tensor: shape=(10, 3, 256, 256), dtype=int64, numpy=\n",
              "array([[[[0, 0, 0, ..., 0, 0, 0],\n",
              "         [0, 0, 0, ..., 0, 0, 0],\n",
              "         [0, 0, 0, ..., 0, 0, 0],\n",
              "         ...,\n",
              "         [0, 0, 0, ..., 0, 0, 0],\n",
              "         [0, 0, 0, ..., 0, 0, 0],\n",
              "         [0, 0, 0, ..., 0, 0, 0]],\n",
              "\n",
              "        [[0, 0, 0, ..., 0, 0, 0],\n",
              "         [0, 0, 0, ..., 0, 0, 0],\n",
              "         [0, 0, 0, ..., 0, 0, 0],\n",
              "         ...,\n",
              "         [0, 0, 0, ..., 0, 0, 0],\n",
              "         [0, 0, 0, ..., 0, 0, 0],\n",
              "         [0, 0, 0, ..., 0, 0, 0]],\n",
              "\n",
              "        [[0, 0, 0, ..., 0, 0, 0],\n",
              "         [0, 0, 0, ..., 0, 0, 0],\n",
              "         [0, 0, 0, ..., 0, 0, 0],\n",
              "         ...,\n",
              "         [0, 0, 0, ..., 0, 0, 0],\n",
              "         [0, 0, 0, ..., 0, 0, 0],\n",
              "         [0, 0, 0, ..., 0, 0, 0]]],\n",
              "\n",
              "\n",
              "       [[[0, 0, 0, ..., 0, 0, 0],\n",
              "         [0, 0, 0, ..., 0, 0, 0],\n",
              "         [0, 0, 0, ..., 0, 0, 0],\n",
              "         ...,\n",
              "         [0, 0, 0, ..., 0, 0, 0],\n",
              "         [0, 0, 0, ..., 0, 0, 0],\n",
              "         [0, 0, 0, ..., 0, 0, 0]],\n",
              "\n",
              "        [[0, 0, 0, ..., 0, 0, 0],\n",
              "         [0, 0, 0, ..., 0, 0, 0],\n",
              "         [0, 0, 0, ..., 0, 0, 0],\n",
              "         ...,\n",
              "         [0, 0, 0, ..., 0, 0, 0],\n",
              "         [0, 0, 0, ..., 0, 0, 0],\n",
              "         [0, 0, 0, ..., 0, 0, 0]],\n",
              "\n",
              "        [[0, 0, 0, ..., 0, 0, 0],\n",
              "         [0, 0, 0, ..., 0, 0, 0],\n",
              "         [0, 0, 0, ..., 0, 0, 0],\n",
              "         ...,\n",
              "         [0, 0, 0, ..., 0, 0, 0],\n",
              "         [0, 0, 0, ..., 0, 0, 0],\n",
              "         [0, 0, 0, ..., 0, 0, 0]]],\n",
              "\n",
              "\n",
              "       [[[0, 0, 0, ..., 0, 0, 0],\n",
              "         [0, 0, 0, ..., 0, 0, 0],\n",
              "         [0, 0, 0, ..., 0, 0, 0],\n",
              "         ...,\n",
              "         [0, 0, 0, ..., 0, 0, 0],\n",
              "         [0, 0, 0, ..., 0, 0, 0],\n",
              "         [0, 0, 0, ..., 0, 0, 0]],\n",
              "\n",
              "        [[0, 0, 0, ..., 0, 0, 0],\n",
              "         [0, 0, 0, ..., 0, 0, 0],\n",
              "         [0, 0, 0, ..., 0, 0, 0],\n",
              "         ...,\n",
              "         [0, 0, 0, ..., 0, 0, 0],\n",
              "         [0, 0, 0, ..., 0, 0, 0],\n",
              "         [0, 0, 0, ..., 0, 0, 0]],\n",
              "\n",
              "        [[0, 0, 0, ..., 0, 0, 0],\n",
              "         [0, 0, 0, ..., 0, 0, 0],\n",
              "         [0, 0, 0, ..., 0, 0, 0],\n",
              "         ...,\n",
              "         [0, 0, 0, ..., 0, 0, 0],\n",
              "         [0, 0, 0, ..., 0, 0, 0],\n",
              "         [0, 0, 0, ..., 0, 0, 0]]],\n",
              "\n",
              "\n",
              "       ...,\n",
              "\n",
              "\n",
              "       [[[0, 0, 0, ..., 0, 0, 0],\n",
              "         [0, 0, 0, ..., 0, 0, 0],\n",
              "         [0, 0, 0, ..., 0, 0, 0],\n",
              "         ...,\n",
              "         [0, 0, 0, ..., 0, 0, 0],\n",
              "         [0, 0, 0, ..., 0, 0, 0],\n",
              "         [0, 0, 0, ..., 0, 0, 0]],\n",
              "\n",
              "        [[0, 0, 0, ..., 0, 0, 0],\n",
              "         [0, 0, 0, ..., 0, 0, 0],\n",
              "         [0, 0, 0, ..., 0, 0, 0],\n",
              "         ...,\n",
              "         [0, 0, 0, ..., 0, 0, 0],\n",
              "         [0, 0, 0, ..., 0, 0, 0],\n",
              "         [0, 0, 0, ..., 0, 0, 0]],\n",
              "\n",
              "        [[0, 0, 0, ..., 0, 0, 0],\n",
              "         [0, 0, 0, ..., 0, 0, 0],\n",
              "         [0, 0, 0, ..., 0, 0, 0],\n",
              "         ...,\n",
              "         [0, 0, 0, ..., 0, 0, 0],\n",
              "         [0, 0, 0, ..., 0, 0, 0],\n",
              "         [0, 0, 0, ..., 0, 0, 0]]],\n",
              "\n",
              "\n",
              "       [[[0, 0, 0, ..., 0, 0, 0],\n",
              "         [0, 0, 0, ..., 0, 0, 0],\n",
              "         [0, 0, 0, ..., 0, 0, 0],\n",
              "         ...,\n",
              "         [0, 0, 0, ..., 0, 0, 0],\n",
              "         [0, 0, 0, ..., 0, 0, 0],\n",
              "         [0, 0, 0, ..., 0, 0, 0]],\n",
              "\n",
              "        [[0, 0, 0, ..., 0, 0, 0],\n",
              "         [0, 0, 0, ..., 0, 0, 0],\n",
              "         [0, 0, 0, ..., 0, 0, 0],\n",
              "         ...,\n",
              "         [0, 0, 0, ..., 0, 0, 0],\n",
              "         [0, 0, 0, ..., 0, 0, 0],\n",
              "         [0, 0, 0, ..., 0, 0, 0]],\n",
              "\n",
              "        [[0, 0, 0, ..., 0, 0, 0],\n",
              "         [0, 0, 0, ..., 0, 0, 0],\n",
              "         [0, 0, 0, ..., 0, 0, 0],\n",
              "         ...,\n",
              "         [0, 0, 0, ..., 0, 0, 0],\n",
              "         [0, 0, 0, ..., 0, 0, 0],\n",
              "         [0, 0, 0, ..., 0, 0, 0]]],\n",
              "\n",
              "\n",
              "       [[[0, 0, 0, ..., 0, 0, 0],\n",
              "         [0, 0, 0, ..., 0, 0, 0],\n",
              "         [0, 0, 0, ..., 0, 0, 0],\n",
              "         ...,\n",
              "         [0, 0, 0, ..., 0, 0, 0],\n",
              "         [0, 0, 0, ..., 0, 0, 0],\n",
              "         [0, 0, 0, ..., 0, 0, 0]],\n",
              "\n",
              "        [[0, 0, 0, ..., 0, 0, 0],\n",
              "         [0, 0, 0, ..., 0, 0, 0],\n",
              "         [0, 0, 0, ..., 0, 0, 0],\n",
              "         ...,\n",
              "         [0, 0, 0, ..., 0, 0, 0],\n",
              "         [0, 0, 0, ..., 0, 0, 0],\n",
              "         [0, 0, 0, ..., 0, 0, 0]],\n",
              "\n",
              "        [[0, 0, 0, ..., 0, 0, 0],\n",
              "         [0, 0, 0, ..., 0, 0, 0],\n",
              "         [0, 0, 0, ..., 0, 0, 0],\n",
              "         ...,\n",
              "         [0, 0, 0, ..., 0, 0, 0],\n",
              "         [0, 0, 0, ..., 0, 0, 0],\n",
              "         [0, 0, 0, ..., 0, 0, 0]]]])>"
            ]
          },
          "metadata": {
            "tags": []
          },
          "execution_count": 39
        }
      ]
    },
    {
      "cell_type": "markdown",
      "metadata": {
        "id": "wkaCDOGapMyl"
      },
      "source": [
        "As you have seen, the ```shape``` of a Tensor provides the number of elements in each Tensor dimension. The ```shape``` is quite useful, and we'll use it often. You can also use slicing to access subtensors within a higher-rank Tensor:"
      ]
    },
    {
      "cell_type": "code",
      "metadata": {
        "colab": {
          "base_uri": "https://localhost:8080/"
        },
        "id": "0kvCntnDRbE8",
        "outputId": "2d40ed85-cbc6-47ac-8340-da85b5337f25"
      },
      "source": [
        "#RECALLING \"matrix\":\r\n",
        "matrix"
      ],
      "execution_count": null,
      "outputs": [
        {
          "output_type": "execute_result",
          "data": {
            "text/plain": [
              "<tf.Tensor: shape=(3, 4), dtype=int64, numpy=\n",
              "array([[1, 1, 1, 1],\n",
              "       [2, 2, 2, 2],\n",
              "       [3, 3, 3, 3]])>"
            ]
          },
          "metadata": {
            "tags": []
          },
          "execution_count": 40
        }
      ]
    },
    {
      "cell_type": "code",
      "metadata": {
        "id": "FhaufyObuLEG",
        "colab": {
          "base_uri": "https://localhost:8080/"
        },
        "outputId": "3445b074-ccc9-4a0e-f361-4be849174e05"
      },
      "source": [
        "row_vector = matrix[1]\n",
        "column_vector = matrix[:,2]\n",
        "scalar = matrix[1, 2]\n",
        "\n",
        "print(\"`row_vector`: {}\".format(row_vector.numpy()))\n",
        "print(\"`column_vector`: {}\".format(column_vector.numpy()))\n",
        "print(\"`scalar`: {}\".format(scalar.numpy()))"
      ],
      "execution_count": null,
      "outputs": [
        {
          "output_type": "stream",
          "text": [
            "`row_vector`: [2 2 2 2]\n",
            "`column_vector`: [1 2 3]\n",
            "`scalar`: 2\n"
          ],
          "name": "stdout"
        }
      ]
    },
    {
      "cell_type": "markdown",
      "metadata": {
        "id": "iD3VO-LZYZ2z"
      },
      "source": [
        "## 1.2 Computations on Tensors\n",
        "\n",
        "A convenient way to think about and visualize computations in TensorFlow is in terms of graphs. We can define this graph in terms of Tensors, which hold data, and the mathematical operations that act on these Tensors in some order. Let's look at a simple example, and define this computation using TensorFlow:\n",
        "\n",
        "![alt text](https://raw.githubusercontent.com/aamini/introtodeeplearning/master/lab1/img/add-graph.png)"
      ]
    },
    {
      "cell_type": "code",
      "metadata": {
        "id": "X_YJrZsxYZ2z",
        "colab": {
          "base_uri": "https://localhost:8080/"
        },
        "outputId": "47202df9-ea9b-4018-c700-47f88fce7cd9"
      },
      "source": [
        "# Create the nodes in the graph, and initialize values\n",
        "a = tf.constant(15)\n",
        "b = tf.constant(61)\n",
        "\n",
        "# Add them!\n",
        "c1 = tf.add(a,b)\n",
        "c2 = a + b # TensorFlow overrides the \"+\" operation so that it is able to act on Tensors\n",
        "print(c1)\n",
        "print(c2)"
      ],
      "execution_count": null,
      "outputs": [
        {
          "output_type": "stream",
          "text": [
            "tf.Tensor(76, shape=(), dtype=int32)\n",
            "tf.Tensor(76, shape=(), dtype=int32)\n"
          ],
          "name": "stdout"
        }
      ]
    },
    {
      "cell_type": "markdown",
      "metadata": {
        "id": "Mbfv_QOiYZ23"
      },
      "source": [
        "Notice how we've created a computation graph consisting of TensorFlow operations, and how  the output is a Tensor with value 76 -- we've just created a computation graph consisting of operations, and it's executed them and given us back the result.\n",
        "\n",
        "Now let's consider a slightly more complicated example:\n",
        "\n",
        "![alt text](https://raw.githubusercontent.com/aamini/introtodeeplearning/master/lab1/img/computation-graph.png)\n",
        "\n",
        "Here, we take two inputs, `a, b`, and compute an output `e`. Each node in the graph represents an operation that takes some input, does some computation, and passes its output to another node.\n",
        "\n",
        "Let's define a simple function in TensorFlow to construct this computation function:"
      ]
    },
    {
      "cell_type": "code",
      "metadata": {
        "scrolled": true,
        "id": "PJnfzpWyYZ23"
      },
      "source": [
        "### Defining Tensor computations ###\n",
        "\n",
        "# Construct a simple computation function\n",
        "def func(a,b):\n",
        "  '''TODO: Define the operation for c, d, e (use tf.add, tf.subtract, tf.multiply).'''\n",
        "  #c = # TODO\n",
        "  #d = # TODO\n",
        "  #e = # TODO\n",
        "\n",
        "  c = tf.add(a,b) \n",
        "  uno= tf.constant(1, tf.float64)\n",
        "  d = tf.subtract(b,uno)\n",
        "  e = tf.multiply(c,d)\n",
        "  \n",
        "  return e"
      ],
      "execution_count": null,
      "outputs": []
    },
    {
      "cell_type": "markdown",
      "metadata": {
        "id": "AwrRfDMS2-oy"
      },
      "source": [
        "Now, we can call this function to execute the computation graph given some inputs `a,b`:"
      ]
    },
    {
      "cell_type": "code",
      "metadata": {
        "id": "pnwsf8w2uF7p",
        "colab": {
          "base_uri": "https://localhost:8080/"
        },
        "outputId": "7a723f53-bb93-400d-dfc7-787fbf3270c3"
      },
      "source": [
        "# Consider example values for a,b\n",
        "a, b = 1.5, 2.5\n",
        "\n",
        "#turning a, b into tensors\n",
        "\n",
        "a = tf.constant(a, tf.float64)\n",
        "b=  tf.constant(b, tf.float64)\n",
        "\n",
        "# Execute the computation\n",
        "e_out = func(a,b)\n",
        "print(e_out)"
      ],
      "execution_count": null,
      "outputs": [
        {
          "output_type": "stream",
          "text": [
            "tf.Tensor(6.0, shape=(), dtype=float64)\n"
          ],
          "name": "stdout"
        }
      ]
    },
    {
      "cell_type": "code",
      "metadata": {
        "colab": {
          "base_uri": "https://localhost:8080/"
        },
        "id": "nEiTopRtGdcu",
        "outputId": "9e50e52d-0887-4f9b-a17f-bbe33c260347"
      },
      "source": [
        "#directly because tensorflow overrides the operators:\r\n",
        "(a+b)*(b-1)"
      ],
      "execution_count": null,
      "outputs": [
        {
          "output_type": "execute_result",
          "data": {
            "text/plain": [
              "<tf.Tensor: shape=(), dtype=float64, numpy=6.0>"
            ]
          },
          "metadata": {
            "tags": []
          },
          "execution_count": 45
        }
      ]
    },
    {
      "cell_type": "code",
      "metadata": {
        "id": "ebR3A3mFIKVl"
      },
      "source": [
        "#Directly with a function\r\n",
        "# Construct a simple computation function\r\n",
        "def func1(a,b):\r\n",
        "\r\n",
        "  c = a+b \r\n",
        "  d = b-1\r\n",
        "  e = c*d\r\n",
        "  \r\n",
        "  return e"
      ],
      "execution_count": null,
      "outputs": []
    },
    {
      "cell_type": "code",
      "metadata": {
        "colab": {
          "base_uri": "https://localhost:8080/"
        },
        "id": "x-cU2MQgI1QI",
        "outputId": "a098eabc-b6a2-40ac-a7d4-1068965fa7d7"
      },
      "source": [
        "# Consider example values for a,b\r\n",
        "a, b = 1.5, 2.5\r\n",
        "#turning a, b into tensors\r\n",
        "a = tf.constant(a, tf.float64)\r\n",
        "b=  tf.constant(b, tf.float64)\r\n",
        "\r\n",
        "# Execute the computation\r\n",
        "e_out = func1(a,b)\r\n",
        "print(e_out)"
      ],
      "execution_count": null,
      "outputs": [
        {
          "output_type": "stream",
          "text": [
            "tf.Tensor(6.0, shape=(), dtype=float64)\n"
          ],
          "name": "stdout"
        }
      ]
    },
    {
      "cell_type": "markdown",
      "metadata": {
        "id": "6HqgUIUhYZ29"
      },
      "source": [
        "Notice how our output is a Tensor with value defined by the output of the computation, and that the output has no shape as it is a single scalar value."
      ]
    },
    {
      "cell_type": "markdown",
      "metadata": {
        "id": "1h4o9Bb0YZ29"
      },
      "source": [
        "## 1.3 Neural networks in TensorFlow\n",
        "We can also define neural networks in TensorFlow. TensorFlow uses a high-level API called [Keras](https://www.tensorflow.org/guide/keras) that provides a powerful, intuitive framework for building and training deep learning models.\n",
        "\n",
        "Let's first consider the example of a simple perceptron defined by just one dense layer: $ y = \\sigma(xW + b)$, where $W$ represents a matrix of weights, $b$ is a bias, $x$ is the input, $\\sigma$ is the sigmoid activation function, and $y$ is the output. We can also visualize this operation using a graph: \n",
        "\n",
        "![alt text](https://raw.githubusercontent.com/aamini/introtodeeplearning/master/lab1/img/computation-graph-2.png)\n",
        "\n",
        "Tensors can flow through abstract types called [```Layers```](https://www.tensorflow.org/api_docs/python/tf/keras/layers/Layer) -- the building blocks of neural networks. ```Layers``` implement common neural networks operations, and are used to update weights, compute losses, and define inter-layer connectivity. We will first define a ```Layer``` to implement the simple perceptron defined above."
      ]
    },
    {
      "cell_type": "code",
      "metadata": {
        "id": "HutbJk-1kHPh",
        "colab": {
          "base_uri": "https://localhost:8080/"
        },
        "outputId": "fe6afe92-1237-4f9d-d925-9f77281f97c7"
      },
      "source": [
        "### Defining a network Layer ###\n",
        "\n",
        "# n_output_nodes: number of output nodes\n",
        "# input_shape: shape of the input\n",
        "# x: input to the layer\n",
        "\n",
        "class OurDenseLayer(tf.keras.layers.Layer):\n",
        "  def __init__(self, n_output_nodes):\n",
        "    super(OurDenseLayer, self).__init__()\n",
        "    self.n_output_nodes = n_output_nodes\n",
        "    print(\"n_output_nodes= \", self.n_output_nodes)\n",
        "    print()\n",
        "\n",
        "  def build(self, input_shape):\n",
        "    print(\"input_shape= \", input_shape)\n",
        "    print()\n",
        "    d = int(input_shape[-1])\n",
        "    print(\"d = last element of shape= \",d)\n",
        "    print()\n",
        "    # Define and initialize parameters: a weight matrix W and bias b\n",
        "    # Note that parameter initialization is random!\n",
        "    self.W = self.add_weight(\"weight\", shape=[d, self.n_output_nodes]) # note the dimensionality\n",
        "    print(\"W= \",self.W) # to know its value\n",
        "    print()\n",
        "    self.b = self.add_weight(\"bias\", shape=[1, self.n_output_nodes]) # note the dimensionality\n",
        "    print(\"b= \",self.b) # to know its value\n",
        "    print()\n",
        "\n",
        "  def call(self, x):\n",
        "    '''TODO: define the operation for z (hint: use tf.matmul)'''\n",
        "    #z = # TODO\n",
        "       \n",
        "    z = tf.add(tf.matmul(x,self.W),self.b) # let it be with tf operations better\n",
        "    print(\"z= \",z) # to know its value\n",
        "    print()\n",
        "    #z = tf.matmul(x,self.W) + self.b # another way to do it: \"+\" is an overrode operations for tensors\n",
        "\n",
        "    '''TODO: define the operation for out (hint: use tf.sigmoid)'''\n",
        "    #y = # TODO\n",
        "    y = tf.sigmoid(z)\n",
        "    print(\"y= \",y) # to know its value\n",
        "    print()\n",
        "    return y\n",
        "\n",
        "# Since layer parameters are initialized randomly, we will set a random seed for reproducibility (to get the same values when exexuted several times at different moments)\n",
        "tf.random.set_seed(1) # like in DS4A\n",
        "layer = OurDenseLayer(3)# n_output_nodes=3 (y13, so it will have 3 values in an array of 1 row and 3 columns)\n",
        "layer.build((1,2)) #input_shape=(1,2), according to what is inside build(): it means W23 and b13\n",
        "x_input = tf.constant([[1,2.]], shape=(1,2)) #it means x12=[1,2], so z13=(x12)(W23)+(b13)\n",
        "print(\"x= \",x_input) # to know its value\n",
        "y = layer.call(x_input) #y=sigmoid(z), so y13\n",
        "print(\"y=sigmoid(z)= \",y) # to know its value\n",
        "\n",
        "# test the output!\n",
        "print(\"y= \",y.numpy())\n",
        "mdl.lab1.test_custom_dense_layer_output(y)"
      ],
      "execution_count": null,
      "outputs": [
        {
          "output_type": "stream",
          "text": [
            "n_output_nodes=  3\n",
            "\n",
            "input_shape=  (1, 2)\n",
            "\n",
            "d = last element of shape=  2\n",
            "\n",
            "W=  <tf.Variable 'weight:0' shape=(2, 3) dtype=float32, numpy=\n",
            "array([[-0.73366153,  0.8796015 ,  0.28695   ],\n",
            "       [-0.14340228, -0.4558388 ,  0.3122064 ]], dtype=float32)>\n",
            "\n",
            "b=  <tf.Variable 'bias:0' shape=(1, 3) dtype=float32, numpy=array([[ 0.02475715, -0.13831842, -0.2240473 ]], dtype=float32)>\n",
            "\n",
            "x=  tf.Tensor([[1. 2.]], shape=(1, 2), dtype=float32)\n",
            "z=  tf.Tensor([[-0.99570894 -0.17039454  0.68731546]], shape=(1, 3), dtype=float32)\n",
            "\n",
            "y=  tf.Tensor([[0.2697859  0.45750412 0.66536945]], shape=(1, 3), dtype=float32)\n",
            "\n",
            "y=sigmoid(z)=  tf.Tensor([[0.2697859  0.45750412 0.66536945]], shape=(1, 3), dtype=float32)\n",
            "y=  [[0.2697859  0.45750412 0.66536945]]\n",
            "[PASS] test_custom_dense_layer_output\n"
          ],
          "name": "stdout"
        },
        {
          "output_type": "execute_result",
          "data": {
            "text/plain": [
              "True"
            ]
          },
          "metadata": {
            "tags": []
          },
          "execution_count": 48
        }
      ]
    },
    {
      "cell_type": "code",
      "metadata": {
        "colab": {
          "base_uri": "https://localhost:8080/"
        },
        "id": "98jHtu9kMskG",
        "outputId": "ae9d2513-d27b-446a-d5af-62e179ef6c7e"
      },
      "source": [
        "W23=np.array([[-0.73366153,  0.8796015 ,  0.28695   ],\r\n",
        "       [-0.14340228, -0.4558388 ,  0.3122064 ]])\r\n",
        "print(\"W23= \",W23)\r\n",
        "print()\r\n",
        "W23"
      ],
      "execution_count": null,
      "outputs": [
        {
          "output_type": "stream",
          "text": [
            "W23=  [[-0.73366153  0.8796015   0.28695   ]\n",
            " [-0.14340228 -0.4558388   0.3122064 ]]\n",
            "\n"
          ],
          "name": "stdout"
        },
        {
          "output_type": "execute_result",
          "data": {
            "text/plain": [
              "array([[-0.73366153,  0.8796015 ,  0.28695   ],\n",
              "       [-0.14340228, -0.4558388 ,  0.3122064 ]])"
            ]
          },
          "metadata": {
            "tags": []
          },
          "execution_count": 49
        }
      ]
    },
    {
      "cell_type": "code",
      "metadata": {
        "colab": {
          "base_uri": "https://localhost:8080/"
        },
        "id": "Uv0H-TcLGRtt",
        "outputId": "5ea0472c-50f1-4161-8267-77af0f978c1c"
      },
      "source": [
        "#according to the above results, let me \"prove it\" once again using linear algebra:\r\n",
        "\r\n",
        "#given data:\r\n",
        "\r\n",
        "#x is given as input itself:\r\n",
        "x12=np.array([[1., 2.]])\r\n",
        "print(\"x12= \",x12)       \r\n",
        "print()\r\n",
        "\r\n",
        "#firstly initilization of W and b:\r\n",
        "W23=np.array([[-0.73366153,  0.8796015 ,  0.28695   ],\r\n",
        "       [-0.14340228, -0.4558388 ,  0.3122064 ]])\r\n",
        "print(\"W23= \",W23)\r\n",
        "print()       \r\n",
        "b13=np.array([[ 0.02475715, -0.13831842, -0.2240473 ]])\r\n",
        "print(\"b13= \",b13)       \r\n",
        "print()\r\n",
        "\r\n",
        "#so now, calculating z:\r\n",
        "#z13=(x12)*(W23)+(b13)\r\n",
        "z13 = np.dot(x12,W23) + b13\r\n",
        "print(\"z13= \",z13)       \r\n",
        "print()\r\n",
        "\r\n",
        "#passing z into the non-linear operation of a sigmoid (element by element) to get y:\r\n",
        "#y=sigmoid(z)\r\n",
        "\r\n",
        "#I can define myself that fuction in terms of maths\r\n",
        "def sigmoid(x):\r\n",
        "  return 1 / (1 + np.exp(-x))\r\n",
        "\r\n",
        "#logistic.cdf is the sigmoid function as a command y python for arrays\r\n",
        "from scipy.stats import logistic\r\n",
        "#expit is ALSO the sigmoid function as a command y python for arrays\r\n",
        "from scipy.special import expit\r\n",
        "\r\n",
        "#let´s checkout the results using all of those 3 options above:\r\n",
        "%timeit -r 1 sigmoid(z13)\r\n",
        "y13_sigmoid = sigmoid(z13) #this one is the best!\r\n",
        "print(\"y13_sigmoid= \",y13_sigmoid)       \r\n",
        "print()\r\n",
        "%timeit -r 1 logistic.cdf(z13)\r\n",
        "y13_logistic_cdf = logistic.cdf(z13) #this one is the best!\r\n",
        "print(\"y13_logistic_cdf= \",y13_logistic_cdf)       \r\n",
        "print()\r\n",
        "%timeit -r 1 expit(z13)\r\n",
        "y13_expit = expit(z13) #this one is the best!\r\n",
        "print(\"y13_expit= \",y13_expit)       \r\n",
        "print()\r\n",
        "print(\"Compacted:\") \r\n",
        "print()\r\n",
        "print(\"Dense() implements the operation: output = activation(dot(input, kernel) + bias) where activation is the element-wise activation function passed as the activation argument, kernel is a weights matrix created by the layer, and bias is a bias vector created by the layer (only applicable if use_bias is True)\")\r\n",
        "print()\r\n",
        "print(\"Here it is: z13 = sigmoid ( np.dot(x12,W23) + b13) = \", sigmoid(np.dot(x12,W23)+b13)) "
      ],
      "execution_count": null,
      "outputs": [
        {
          "output_type": "stream",
          "text": [
            "x12=  [[1. 2.]]\n",
            "\n",
            "W23=  [[-0.73366153  0.8796015   0.28695   ]\n",
            " [-0.14340228 -0.4558388   0.3122064 ]]\n",
            "\n",
            "b13=  [[ 0.02475715 -0.13831842 -0.2240473 ]]\n",
            "\n",
            "z13=  [[-0.99570894 -0.17039452  0.6873155 ]]\n",
            "\n",
            "The slowest run took 8.04 times longer than the fastest. This could mean that an intermediate result is being cached.\n",
            "100000 loops, best of 1: 3.26 µs per loop\n",
            "y13_sigmoid=  [[0.26978593 0.45750414 0.66536948]]\n",
            "\n",
            "The slowest run took 4.12 times longer than the fastest. This could mean that an intermediate result is being cached.\n",
            "10000 loops, best of 1: 68.2 µs per loop\n",
            "y13_logistic_cdf=  [[0.26978593 0.45750414 0.66536948]]\n",
            "\n",
            "The slowest run took 14.03 times longer than the fastest. This could mean that an intermediate result is being cached.\n",
            "1000000 loops, best of 1: 506 ns per loop\n",
            "y13_expit=  [[0.26978593 0.45750414 0.66536948]]\n",
            "\n",
            "Compacted:\n",
            "\n",
            "Dense() implements the operation: output = activation(dot(input, kernel) + bias) where activation is the element-wise activation function passed as the activation argument, kernel is a weights matrix created by the layer, and bias is a bias vector created by the layer (only applicable if use_bias is True)\n",
            "\n",
            "Here it is: z13 = sigmoid ( np.dot(x12,W23) + b13) =  [[0.26978593 0.45750414 0.66536948]]\n"
          ],
          "name": "stdout"
        }
      ]
    },
    {
      "cell_type": "markdown",
      "metadata": {
        "id": "Jt1FgM7qYZ3D"
      },
      "source": [
        "Conveniently, TensorFlow has defined a number of ```Layers``` that are commonly used in neural networks, for example a [```Dense```](https://www.tensorflow.org/api_docs/python/tf/keras/layers/Dense?version=stable). Now, instead of using a single ```Layer``` to define our simple neural network, we'll use the  [`Sequential`](https://www.tensorflow.org/versions/r2.0/api_docs/python/tf/keras/Sequential) model from Keras and a single [`Dense` ](https://www.tensorflow.org/versions/r2.0/api_docs/python/tf/keras/layers/Dense) layer to define our network. With the `Sequential` API, you can readily create neural networks by stacking together layers like building blocks. "
      ]
    },
    {
      "cell_type": "code",
      "metadata": {
        "id": "7WXTpmoL6TDz"
      },
      "source": [
        "### Defining a neural network using the Sequential API ###\n",
        "\n",
        "# Import relevant packages\n",
        "from tensorflow.keras import Sequential\n",
        "from tensorflow.keras.layers import Dense\n",
        "\n",
        "# Define the number of outputs\n",
        "n_output_nodes = 3\n",
        "\n",
        "# First define the model \n",
        "model = Sequential()\n",
        "\n",
        "'''TODO: Define a dense (fully connected) layer to compute z'''\n",
        "# Remember: dense layers are defined by the parameters W and b!\n",
        "# You can read more about the initialization of W and b in the TF documentation :) \n",
        "#(son operaciones que se hacen internamente al inicializar con valores aleatorios la primera vez)\n",
        "# (*) https://www.tensorflow.org/api_docs/python/tf/keras/layers/Dense?version=stable\n",
        "# dense_layer = # TODO\n",
        "\n",
        "dense_layer = Dense(n_output_nodes, activation='sigmoid') \n",
        "\n",
        "# Add the dense layer to the model\n",
        "model.add(dense_layer)\n",
        "\n",
        "##Taken from(*): https://www.tensorflow.org/api_docs/python/tf/keras/layers/Dense?version=stable\n",
        "## Create a `Sequential` model and add a Dense layer as the first layer.\n",
        "# model = tf.keras.models.Sequential()\n",
        "# model.add(tf.keras.Input(shape=(16,)))\n",
        "# model.add(tf.keras.layers.Dense(32, activation='relu'))\n",
        "## Now the model will take as input arrays of shape (None, 16)\n",
        "## and output arrays of shape (None, 32).\n",
        "## Note that after the first layer, you don't need to specify\n",
        "## the size of the input anymore:\n",
        "#model.add(tf.keras.layers.Dense(32))\n",
        "#model.output_shape\n",
        "## Answer: (None, 32)"
      ],
      "execution_count": null,
      "outputs": []
    },
    {
      "cell_type": "markdown",
      "metadata": {
        "id": "HDGcwYfUyR-U"
      },
      "source": [
        "That's it! We've defined our model using the Sequential API. Now, we can test it out using an example input:"
      ]
    },
    {
      "cell_type": "code",
      "metadata": {
        "id": "sg23OczByRDb",
        "colab": {
          "base_uri": "https://localhost:8080/"
        },
        "outputId": "d0989035-42d6-4e07-87ac-ac5bef2c61dc"
      },
      "source": [
        "# Test model with example input\n",
        "x_input = tf.constant([[1,2.]], shape=(1,2))\n",
        "\n",
        "'''TODO: feed input into the model and predict the output!'''\n",
        "#model_output = # TODO\n",
        "\n",
        "model_output = model(x_input).numpy()# this one gets the final result (output = activation(dot(input, kernel) + bias))\n",
        "print(model_output) #the output is different from the one we got before, due to the different W and b values which were initialized using Dense"
      ],
      "execution_count": null,
      "outputs": [
        {
          "output_type": "stream",
          "text": [
            "[[0.5607363 0.6566898 0.1249697]]\n"
          ],
          "name": "stdout"
        }
      ]
    },
    {
      "cell_type": "markdown",
      "metadata": {
        "id": "596NvsOOtr9F"
      },
      "source": [
        "In addition to defining models using the `Sequential` API, we can also define neural networks by directly subclassing the [`Model`](https://www.tensorflow.org/api_docs/python/tf/keras/Model?version=stable) class, which groups layers together to enable model training and inference. The `Model` class captures what we refer to as a \"model\" or as a \"network\". Using Subclassing, we can create a class for our model, and then define the forward pass through the network using the `call` function. Subclassing affords the flexibility to define custom layers, custom training loops, custom activation functions, and custom models. Let's define the same neural network as above now using Subclassing rather than the `Sequential` model."
      ]
    },
    {
      "cell_type": "code",
      "metadata": {
        "id": "K4aCflPVyViD"
      },
      "source": [
        "### Defining a model using subclassing ###\n",
        "\n",
        "from tensorflow.keras import Model\n",
        "from tensorflow.keras.layers import Dense\n",
        "\n",
        "class SubclassModel(tf.keras.Model):\n",
        "\n",
        "  # In __init__, we define the Model's layers\n",
        "  def __init__(self, n_output_nodes):\n",
        "    super(SubclassModel, self).__init__()\n",
        "    '''TODO: Our model consists of a single Dense layer. Define this layer.''' \n",
        "    #self.dense_layer = '''TODO: Dense Layer'''\n",
        "    self.dense_layer = Dense(n_output_nodes, activation='sigmoid')\n",
        "\n",
        "  # In the call function, we define the Model's forward pass.\n",
        "  def call(self, inputs):\n",
        "    return self.dense_layer(inputs)"
      ],
      "execution_count": null,
      "outputs": []
    },
    {
      "cell_type": "markdown",
      "metadata": {
        "id": "U0-lwHDk4irB"
      },
      "source": [
        "Just like the model we built using the `Sequential` API, let's test out our `SubclassModel` using an example input.\n",
        "\n"
      ]
    },
    {
      "cell_type": "code",
      "metadata": {
        "id": "LhB34RA-4gXb",
        "colab": {
          "base_uri": "https://localhost:8080/"
        },
        "outputId": "402732d7-e0be-4b58-809b-6cf631c62424"
      },
      "source": [
        "n_output_nodes = 3\n",
        "model = SubclassModel(n_output_nodes)\n",
        "\n",
        "x_input = tf.constant([[1,2.]], shape=(1,2))\n",
        "# this one gets the final result (output = activation(dot(input, kernel) + bias)):\n",
        "print(model.call(x_input))#the output is different from the one we got before, due to the different W and b values which were initialized using Dense"
      ],
      "execution_count": null,
      "outputs": [
        {
          "output_type": "stream",
          "text": [
            "tf.Tensor([[0.6504887  0.47828162 0.8373661 ]], shape=(1, 3), dtype=float32)\n"
          ],
          "name": "stdout"
        }
      ]
    },
    {
      "cell_type": "markdown",
      "metadata": {
        "id": "HTIFMJLAzsyE"
      },
      "source": [
        "Importantly, Subclassing affords us a lot of flexibility to define custom models. For example, we can use boolean arguments in the `call` function to specify different network behaviors, for example different behaviors during training and inference. Let's suppose under some instances we want our network to simply output the input, without any perturbation. We define a boolean argument `isidentity` to control this behavior:"
      ]
    },
    {
      "cell_type": "code",
      "metadata": {
        "id": "P7jzGX5D1xT5"
      },
      "source": [
        "### Defining a model using subclassing and specifying custom behavior ###\n",
        "\n",
        "from tensorflow.keras import Model\n",
        "from tensorflow.keras.layers import Dense\n",
        "\n",
        "class IdentityModel(tf.keras.Model):\n",
        "\n",
        "  # As before, in __init__ we define the Model's layers\n",
        "  # Since our desired behavior involves the forward pass, this part is unchanged\n",
        "  def __init__(self, n_output_nodes):\n",
        "    super(IdentityModel, self).__init__()\n",
        "    self.dense_layer = tf.keras.layers.Dense(n_output_nodes, activation='sigmoid')\n",
        "\n",
        "  '''TODO: Implement the behavior where the network outputs the input, unchanged, \n",
        "      under control of the isidentity argument.'''\n",
        "  def call(self, inputs, isidentity=False):#default value for isidentity is False\n",
        "    x = self.dense_layer(inputs)\n",
        "    '''TODO: Implement identity behavior'''       \n",
        "    if isidentity==True:\n",
        "      return inputs #the network outputs the input, unchanged (y=x)\n",
        "    else:\n",
        "      return x #the network outputs the result y changed (due to Dense: y=sigmoid(xW+b))\n"
      ],
      "execution_count": null,
      "outputs": []
    },
    {
      "cell_type": "markdown",
      "metadata": {
        "id": "Ku4rcCGx5T3y"
      },
      "source": [
        "Let's test this behavior:"
      ]
    },
    {
      "cell_type": "code",
      "metadata": {
        "id": "NzC0mgbk5dp2",
        "colab": {
          "base_uri": "https://localhost:8080/"
        },
        "outputId": "9df671fe-c1e3-47dd-a067-b07b14996044"
      },
      "source": [
        "n_output_nodes = 3\n",
        "model = IdentityModel(n_output_nodes)\n",
        "\n",
        "x_input = tf.constant([[1,2.]], shape=(1,2))\n",
        "'''TODO: pass the input into the model and call with and without the input identity option.'''\n",
        "#out_activate = # TODO\n",
        "#out_identity = # TODO\n",
        "\n",
        "out_activate = model.call(x_input)       # isidentity=False is by default (no need to put it)\n",
        "out_identity = model.call(x_input, True) # isidentity=True (necessary to specify it)\n",
        "\n",
        "print(\"Network output with activation: {}; network identity output: {}\".format(out_activate.numpy(), out_identity.numpy()))"
      ],
      "execution_count": null,
      "outputs": [
        {
          "output_type": "stream",
          "text": [
            "Network output with activation: [[0.29996255 0.62776643 0.48460072]]; network identity output: [[1. 2.]]\n"
          ],
          "name": "stdout"
        }
      ]
    },
    {
      "cell_type": "markdown",
      "metadata": {
        "id": "7V1dEqdk6VI5"
      },
      "source": [
        "Now that we have learned how to define `Layers` as well as neural networks in TensorFlow using both the `Sequential` and Subclassing APIs, we're ready to turn our attention to how to actually implement network training with backpropagation."
      ]
    },
    {
      "cell_type": "markdown",
      "metadata": {
        "id": "dQwDhKn8kbO2"
      },
      "source": [
        "## 1.4 Automatic differentiation in TensorFlow\n",
        "\n",
        "[Automatic differentiation](https://en.wikipedia.org/wiki/Automatic_differentiation)\n",
        "is one of the most important parts of TensorFlow and is the backbone of training with \n",
        "[backpropagation](https://en.wikipedia.org/wiki/Backpropagation). We will use the TensorFlow GradientTape [`tf.GradientTape`](https://www.tensorflow.org/api_docs/python/tf/GradientTape?version=stable) to trace operations for computing gradients later. \n",
        "\n",
        "When a forward pass is made through the network, all forward-pass operations get recorded to a \"tape\"; then, to compute the gradient, the tape is played backwards. By default, the tape is discarded after it is played backwards; this means that a particular `tf.GradientTape` can only\n",
        "compute one gradient, and subsequent calls throw a runtime error. However, we can compute multiple gradients over the same computation by creating a ```persistent``` gradient tape. \n",
        "\n",
        "First, we will look at how we can compute gradients using GradientTape and access them for computation. We define the simple function $ y = x^2$ and compute the gradient:"
      ]
    },
    {
      "cell_type": "code",
      "metadata": {
        "id": "tdkqk8pw5yJM"
      },
      "source": [
        "### Gradient computation with GradientTape ###\n",
        "\n",
        "# y = x^2\n",
        "# Example: x = 3.0\n",
        "x = tf.Variable(3.0)\n",
        "\n",
        "# Initiate the gradient tape\n",
        "with tf.GradientTape() as tape:\n",
        "  # Define the function\n",
        "  y = x * x\n",
        "# Access the gradient -- derivative of y with respect to x\n",
        "dy_dx = tape.gradient(y, x)\n",
        "\n",
        "assert dy_dx.numpy() == 6.0"
      ],
      "execution_count": null,
      "outputs": []
    },
    {
      "cell_type": "code",
      "metadata": {
        "colab": {
          "base_uri": "https://localhost:8080/"
        },
        "id": "WyPT_hcpmGbf",
        "outputId": "564ec0fb-83e4-478a-daf7-dfc0e4492206"
      },
      "source": [
        "x"
      ],
      "execution_count": null,
      "outputs": [
        {
          "output_type": "execute_result",
          "data": {
            "text/plain": [
              "<tf.Variable 'Variable:0' shape=() dtype=float32, numpy=3.0>"
            ]
          },
          "metadata": {
            "tags": []
          },
          "execution_count": 63
        }
      ]
    },
    {
      "cell_type": "code",
      "metadata": {
        "colab": {
          "base_uri": "https://localhost:8080/"
        },
        "id": "fnVLBrGImA9S",
        "outputId": "2794491b-a98c-4a78-8ecd-c4a1e02ed916"
      },
      "source": [
        "dy_dx"
      ],
      "execution_count": null,
      "outputs": [
        {
          "output_type": "execute_result",
          "data": {
            "text/plain": [
              "<tf.Tensor: shape=(), dtype=float32, numpy=6.0>"
            ]
          },
          "metadata": {
            "tags": []
          },
          "execution_count": 62
        }
      ]
    },
    {
      "cell_type": "code",
      "metadata": {
        "colab": {
          "base_uri": "https://localhost:8080/"
        },
        "id": "wugRFWR_l77r",
        "outputId": "78459bb2-03dc-42ee-a4cb-3f9cbc2c8829"
      },
      "source": [
        "dy_dx.numpy() == 6.0"
      ],
      "execution_count": null,
      "outputs": [
        {
          "output_type": "execute_result",
          "data": {
            "text/plain": [
              "True"
            ]
          },
          "metadata": {
            "tags": []
          },
          "execution_count": 61
        }
      ]
    },
    {
      "cell_type": "markdown",
      "metadata": {
        "id": "JhU5metS5xF3"
      },
      "source": [
        "In training neural networks, we use differentiation and stochastic gradient descent (SGD) to optimize a loss function. Now that we have a sense of how `GradientTape` can be used to compute and access derivatives, we will look at an example where we use automatic differentiation and SGD to find the minimum of $L=(x-x_f)^2$. Here $x_f$ is a variable for a desired value we are trying to optimize for; $L$ represents a loss that we are trying to  minimize. While we can clearly solve this problem analytically ($x_{min}=x_f$), considering how we can compute this using `GradientTape` sets us up nicely for future labs where we use gradient descent to optimize entire neural network losses."
      ]
    },
    {
      "cell_type": "code",
      "metadata": {
        "attributes": {
          "classes": [
            "py"
          ],
          "id": ""
        },
        "id": "7g1yWiSXqEf-",
        "colab": {
          "base_uri": "https://localhost:8080/",
          "height": 421
        },
        "outputId": "8b49ae4b-f4d7-4302-9636-2f24ce060ab0"
      },
      "source": [
        "### Function minimization with automatic differentiation and SGD ###\n",
        "\n",
        "# Initialize a random value for our initial x\n",
        "x = tf.Variable([tf.random.normal([1])])\n",
        "print(\"Initializing x={}\".format(x.numpy()))\n",
        "print()\n",
        "\n",
        "learning_rate = 1e-2 # learning rate for SGD\n",
        "history = []\n",
        "# Define the target value\n",
        "x_f = 4\n",
        "\n",
        "# We will run SGD for a number of iterations. At each iteration, we compute the loss, \n",
        "#   compute the derivative of the loss with respect to x, and perform the SGD update.\n",
        "for i in range(500):\n",
        "  with tf.GradientTape() as tape:\n",
        "    '''TODO: define the loss as described above'''\n",
        "    #loss = # TODO\n",
        "    loss = (x-x_f) * (x-x_f)\n",
        "\n",
        "  # loss minimization using gradient tape\n",
        "  grad = tape.gradient(loss, x) # compute the derivative of the loss with respect to x\n",
        "  new_x = x - learning_rate*grad # sgd update\n",
        "  x.assign(new_x) # update the value of x\n",
        "  history.append(x.numpy()[0])\n",
        "\n",
        "print(\"History of x as it reaches to the target x_f:\")\n",
        "print()\n",
        "print(history)\n",
        "print()\n",
        "\n",
        "# Plot the evolution of x as we optimize towards x_f!\n",
        "plt.plot(history)\n",
        "plt.plot([0, 500],[x_f,x_f])\n",
        "plt.legend(('Predicted', 'True'))\n",
        "plt.xlabel('Iteration')\n",
        "plt.ylabel('x value')"
      ],
      "execution_count": null,
      "outputs": [
        {
          "output_type": "stream",
          "text": [
            "Initializing x=[[-0.92759573]]\n",
            "\n",
            "History of x as it reaches to the target x_f:\n",
            "\n",
            "[array([-0.8290438], dtype=float32), array([-0.73246294], dtype=float32), array([-0.6378137], dtype=float32), array([-0.5450574], dtype=float32), array([-0.45415628], dtype=float32), array([-0.36507314], dtype=float32), array([-0.27777168], dtype=float32), array([-0.19221625], dtype=float32), array([-0.10837192], dtype=float32), array([-0.02620449], dtype=float32), array([0.0543196], dtype=float32), array([0.1332332], dtype=float32), array([0.21056855], dtype=float32), array([0.28635716], dtype=float32), array([0.36063004], dtype=float32), array([0.43341744], dtype=float32), array([0.50474906], dtype=float32), array([0.5746541], dtype=float32), array([0.643161], dtype=float32), array([0.71029776], dtype=float32), array([0.7760918], dtype=float32), array([0.84057], dtype=float32), array([0.9037586], dtype=float32), array([0.9656834], dtype=float32), array([1.0263697], dtype=float32), array([1.0858423], dtype=float32), array([1.1441255], dtype=float32), array([1.2012429], dtype=float32), array([1.2572181], dtype=float32), array([1.3120737], dtype=float32), array([1.3658322], dtype=float32), array([1.4185156], dtype=float32), array([1.4701452], dtype=float32), array([1.5207423], dtype=float32), array([1.5703274], dtype=float32), array([1.6189208], dtype=float32), array([1.6665424], dtype=float32), array([1.7132115], dtype=float32), array([1.7589473], dtype=float32), array([1.8037683], dtype=float32), array([1.847693], dtype=float32), array([1.8907391], dtype=float32), array([1.9329243], dtype=float32), array([1.9742658], dtype=float32), array([2.0147805], dtype=float32), array([2.0544848], dtype=float32), array([2.0933952], dtype=float32), array([2.1315274], dtype=float32), array([2.168897], dtype=float32), array([2.205519], dtype=float32), array([2.2414086], dtype=float32), array([2.2765803], dtype=float32), array([2.3110487], dtype=float32), array([2.3448277], dtype=float32), array([2.377931], dtype=float32), array([2.4103725], dtype=float32), array([2.4421651], dtype=float32), array([2.473322], dtype=float32), array([2.5038555], dtype=float32), array([2.5337784], dtype=float32), array([2.563103], dtype=float32), array([2.591841], dtype=float32), array([2.6200042], dtype=float32), array([2.647604], dtype=float32), array([2.6746519], dtype=float32), array([2.7011588], dtype=float32), array([2.7271357], dtype=float32), array([2.752593], dtype=float32), array([2.7775412], dtype=float32), array([2.8019903], dtype=float32), array([2.8259504], dtype=float32), array([2.8494313], dtype=float32), array([2.8724427], dtype=float32), array([2.8949938], dtype=float32), array([2.917094], dtype=float32), array([2.9387522], dtype=float32), array([2.9599771], dtype=float32), array([2.9807775], dtype=float32), array([3.001162], dtype=float32), array([3.021139], dtype=float32), array([3.0407162], dtype=float32), array([3.059902], dtype=float32), array([3.0787039], dtype=float32), array([3.0971298], dtype=float32), array([3.1151872], dtype=float32), array([3.1328833], dtype=float32), array([3.1502256], dtype=float32), array([3.167221], dtype=float32), array([3.1838768], dtype=float32), array([3.2001991], dtype=float32), array([3.216195], dtype=float32), array([3.2318711], dtype=float32), array([3.2472336], dtype=float32), array([3.262289], dtype=float32), array([3.2770433], dtype=float32), array([3.2915025], dtype=float32), array([3.3056724], dtype=float32), array([3.3195589], dtype=float32), array([3.3331678], dtype=float32), array([3.3465044], dtype=float32), array([3.3595743], dtype=float32), array([3.3723829], dtype=float32), array([3.3849351], dtype=float32), array([3.3972363], dtype=float32), array([3.4092915], dtype=float32), array([3.4211056], dtype=float32), array([3.4326835], dtype=float32), array([3.4440298], dtype=float32), array([3.4551492], dtype=float32), array([3.466046], dtype=float32), array([3.476725], dtype=float32), array([3.4871905], dtype=float32), array([3.4974468], dtype=float32), array([3.5074978], dtype=float32), array([3.5173478], dtype=float32), array([3.527001], dtype=float32), array([3.5364609], dtype=float32), array([3.5457315], dtype=float32), array([3.554817], dtype=float32), array([3.5637207], dtype=float32), array([3.5724463], dtype=float32), array([3.5809975], dtype=float32), array([3.5893774], dtype=float32), array([3.59759], dtype=float32), array([3.6056383], dtype=float32), array([3.6135254], dtype=float32), array([3.621255], dtype=float32), array([3.6288297], dtype=float32), array([3.636253], dtype=float32), array([3.643528], dtype=float32), array([3.6506574], dtype=float32), array([3.6576443], dtype=float32), array([3.6644914], dtype=float32), array([3.6712017], dtype=float32), array([3.6777778], dtype=float32), array([3.6842222], dtype=float32), array([3.6905377], dtype=float32), array([3.696727], dtype=float32), array([3.7027924], dtype=float32), array([3.7087367], dtype=float32), array([3.714562], dtype=float32), array([3.7202706], dtype=float32), array([3.7258651], dtype=float32), array([3.7313478], dtype=float32), array([3.7367208], dtype=float32), array([3.7419863], dtype=float32), array([3.7471466], dtype=float32), array([3.7522037], dtype=float32), array([3.7571597], dtype=float32), array([3.7620165], dtype=float32), array([3.766776], dtype=float32), array([3.7714405], dtype=float32), array([3.7760117], dtype=float32), array([3.7804914], dtype=float32), array([3.7848816], dtype=float32), array([3.7891839], dtype=float32), array([3.7934003], dtype=float32), array([3.7975323], dtype=float32), array([3.8015816], dtype=float32), array([3.80555], dtype=float32), array([3.8094392], dtype=float32), array([3.8132503], dtype=float32), array([3.8169854], dtype=float32), array([3.8206456], dtype=float32), array([3.8242326], dtype=float32), array([3.8277478], dtype=float32), array([3.831193], dtype=float32), array([3.8345692], dtype=float32), array([3.8378778], dtype=float32), array([3.8411202], dtype=float32), array([3.844298], dtype=float32), array([3.8474119], dtype=float32), array([3.8504636], dtype=float32), array([3.8534544], dtype=float32), array([3.8563852], dtype=float32), array([3.8592575], dtype=float32), array([3.8620722], dtype=float32), array([3.8648307], dtype=float32), array([3.8675342], dtype=float32), array([3.8701835], dtype=float32), array([3.8727798], dtype=float32), array([3.8753242], dtype=float32), array([3.8778179], dtype=float32), array([3.8802614], dtype=float32), array([3.882656], dtype=float32), array([3.885003], dtype=float32), array([3.887303], dtype=float32), array([3.8895571], dtype=float32), array([3.891766], dtype=float32), array([3.8939307], dtype=float32), array([3.8960521], dtype=float32), array([3.8981311], dtype=float32), array([3.9001684], dtype=float32), array([3.902165], dtype=float32), array([3.9041216], dtype=float32), array([3.9060392], dtype=float32), array([3.9079185], dtype=float32), array([3.90976], dtype=float32), array([3.9115648], dtype=float32), array([3.9133334], dtype=float32), array([3.9150667], dtype=float32), array([3.9167655], dtype=float32), array([3.91843], dtype=float32), array([3.9200616], dtype=float32), array([3.9216604], dtype=float32), array([3.9232273], dtype=float32), array([3.9247627], dtype=float32), array([3.9262674], dtype=float32), array([3.927742], dtype=float32), array([3.929187], dtype=float32), array([3.9306033], dtype=float32), array([3.931991], dtype=float32), array([3.9333513], dtype=float32), array([3.9346843], dtype=float32), array([3.9359906], dtype=float32), array([3.9372706], dtype=float32), array([3.9385252], dtype=float32), array([3.9397547], dtype=float32), array([3.9409597], dtype=float32), array([3.9421406], dtype=float32), array([3.9432979], dtype=float32), array([3.944432], dtype=float32), array([3.9455433], dtype=float32), array([3.9466324], dtype=float32), array([3.9476998], dtype=float32), array([3.9487457], dtype=float32), array([3.949771], dtype=float32), array([3.9507756], dtype=float32), array([3.95176], dtype=float32), array([3.952725], dtype=float32), array([3.9536705], dtype=float32), array([3.954597], dtype=float32), array([3.9555051], dtype=float32), array([3.9563951], dtype=float32), array([3.9572673], dtype=float32), array([3.958122], dtype=float32), array([3.9589596], dtype=float32), array([3.9597805], dtype=float32), array([3.9605849], dtype=float32), array([3.961373], dtype=float32), array([3.9621456], dtype=float32), array([3.9629025], dtype=float32), array([3.9636445], dtype=float32), array([3.9643717], dtype=float32), array([3.9650843], dtype=float32), array([3.9657826], dtype=float32), array([3.966467], dtype=float32), array([3.9671376], dtype=float32), array([3.967795], dtype=float32), array([3.968439], dtype=float32), array([3.9690704], dtype=float32), array([3.9696891], dtype=float32), array([3.9702954], dtype=float32), array([3.9708896], dtype=float32), array([3.9714718], dtype=float32), array([3.9720423], dtype=float32), array([3.9726014], dtype=float32), array([3.9731493], dtype=float32), array([3.9736862], dtype=float32), array([3.9742124], dtype=float32), array([3.974728], dtype=float32), array([3.9752336], dtype=float32), array([3.975729], dtype=float32), array([3.9762144], dtype=float32), array([3.97669], dtype=float32), array([3.9771562], dtype=float32), array([3.977613], dtype=float32), array([3.9780607], dtype=float32), array([3.9784994], dtype=float32), array([3.9789295], dtype=float32), array([3.979351], dtype=float32), array([3.979764], dtype=float32), array([3.9801688], dtype=float32), array([3.9805655], dtype=float32), array([3.9809542], dtype=float32), array([3.9813352], dtype=float32), array([3.9817085], dtype=float32), array([3.9820743], dtype=float32), array([3.9824328], dtype=float32), array([3.9827843], dtype=float32), array([3.9831285], dtype=float32), array([3.983466], dtype=float32), array([3.9837966], dtype=float32), array([3.9841206], dtype=float32), array([3.9844382], dtype=float32), array([3.9847493], dtype=float32), array([3.9850543], dtype=float32), array([3.9853532], dtype=float32), array([3.9856462], dtype=float32), array([3.9859333], dtype=float32), array([3.9862146], dtype=float32), array([3.9864902], dtype=float32), array([3.9867604], dtype=float32), array([3.9870253], dtype=float32), array([3.9872847], dtype=float32), array([3.987539], dtype=float32), array([3.9877882], dtype=float32), array([3.9880323], dtype=float32), array([3.9882717], dtype=float32), array([3.9885063], dtype=float32), array([3.9887362], dtype=float32), array([3.9889615], dtype=float32), array([3.9891822], dtype=float32), array([3.9893985], dtype=float32), array([3.9896104], dtype=float32), array([3.9898183], dtype=float32), array([3.990022], dtype=float32), array([3.9902215], dtype=float32), array([3.990417], dtype=float32), array([3.9906087], dtype=float32), array([3.9907966], dtype=float32), array([3.9909806], dtype=float32), array([3.991161], dtype=float32), array([3.9913378], dtype=float32), array([3.991511], dtype=float32), array([3.9916809], dtype=float32), array([3.9918473], dtype=float32), array([3.9920104], dtype=float32), array([3.99217], dtype=float32), array([3.9923267], dtype=float32), array([3.9924803], dtype=float32), array([3.9926307], dtype=float32), array([3.992778], dtype=float32), array([3.9929225], dtype=float32), array([3.9930642], dtype=float32), array([3.993203], dtype=float32), array([3.9933388], dtype=float32), array([3.993472], dtype=float32), array([3.9936028], dtype=float32), array([3.9937308], dtype=float32), array([3.9938562], dtype=float32), array([3.993979], dtype=float32), array([3.9940994], dtype=float32), array([3.9942174], dtype=float32), array([3.994333], dtype=float32), array([3.9944463], dtype=float32), array([3.9945574], dtype=float32), array([3.9946663], dtype=float32), array([3.994773], dtype=float32), array([3.9948773], dtype=float32), array([3.9949799], dtype=float32), array([3.9950802], dtype=float32), array([3.9951787], dtype=float32), array([3.995275], dtype=float32), array([3.9953694], dtype=float32), array([3.995462], dtype=float32), array([3.9955528], dtype=float32), array([3.9956417], dtype=float32), array([3.995729], dtype=float32), array([3.9958143], dtype=float32), array([3.995898], dtype=float32), array([3.99598], dtype=float32), array([3.9960604], dtype=float32), array([3.996139], dtype=float32), array([3.9962163], dtype=float32), array([3.9962919], dtype=float32), array([3.996366], dtype=float32), array([3.9964387], dtype=float32), array([3.99651], dtype=float32), array([3.99658], dtype=float32), array([3.9966483], dtype=float32), array([3.9967153], dtype=float32), array([3.996781], dtype=float32), array([3.9968455], dtype=float32), array([3.9969087], dtype=float32), array([3.9969704], dtype=float32), array([3.997031], dtype=float32), array([3.9970903], dtype=float32), array([3.9971485], dtype=float32), array([3.9972055], dtype=float32), array([3.9972613], dtype=float32), array([3.9973161], dtype=float32), array([3.9973698], dtype=float32), array([3.9974225], dtype=float32), array([3.997474], dtype=float32), array([3.9975245], dtype=float32), array([3.997574], dtype=float32), array([3.9976225], dtype=float32), array([3.99767], dtype=float32), array([3.9977164], dtype=float32), array([3.9977622], dtype=float32), array([3.997807], dtype=float32), array([3.997851], dtype=float32), array([3.9978938], dtype=float32), array([3.997936], dtype=float32), array([3.9979773], dtype=float32), array([3.9980178], dtype=float32), array([3.9980574], dtype=float32), array([3.9980962], dtype=float32), array([3.9981344], dtype=float32), array([3.9981718], dtype=float32), array([3.9982083], dtype=float32), array([3.998244], dtype=float32), array([3.998279], dtype=float32), array([3.9983134], dtype=float32), array([3.998347], dtype=float32), array([3.9983802], dtype=float32), array([3.9984126], dtype=float32), array([3.9984443], dtype=float32), array([3.9984756], dtype=float32), array([3.998506], dtype=float32), array([3.9985359], dtype=float32), array([3.9985652], dtype=float32), array([3.9985938], dtype=float32), array([3.998622], dtype=float32), array([3.9986496], dtype=float32), array([3.9986765], dtype=float32), array([3.998703], dtype=float32), array([3.998729], dtype=float32), array([3.9987545], dtype=float32), array([3.9987793], dtype=float32), array([3.9988036], dtype=float32), array([3.9988275], dtype=float32), array([3.9988508], dtype=float32), array([3.9988737], dtype=float32), array([3.9988961], dtype=float32), array([3.9989183], dtype=float32), array([3.99894], dtype=float32), array([3.9989612], dtype=float32), array([3.998982], dtype=float32), array([3.9990022], dtype=float32), array([3.9990222], dtype=float32), array([3.9990418], dtype=float32), array([3.9990609], dtype=float32), array([3.9990797], dtype=float32), array([3.999098], dtype=float32), array([3.9991162], dtype=float32), array([3.9991338], dtype=float32), array([3.9991512], dtype=float32), array([3.9991682], dtype=float32), array([3.9991848], dtype=float32), array([3.999201], dtype=float32), array([3.999217], dtype=float32), array([3.9992328], dtype=float32), array([3.999248], dtype=float32), array([3.999263], dtype=float32), array([3.9992778], dtype=float32), array([3.9992924], dtype=float32), array([3.9993064], dtype=float32), array([3.9993203], dtype=float32), array([3.9993339], dtype=float32), array([3.9993472], dtype=float32), array([3.9993603], dtype=float32), array([3.9993732], dtype=float32), array([3.9993858], dtype=float32), array([3.9993982], dtype=float32), array([3.9994102], dtype=float32), array([3.9994218], dtype=float32), array([3.9994335], dtype=float32), array([3.999445], dtype=float32), array([3.9994562], dtype=float32), array([3.9994671], dtype=float32), array([3.9994779], dtype=float32), array([3.9994884], dtype=float32), array([3.9994986], dtype=float32), array([3.9995086], dtype=float32), array([3.9995184], dtype=float32), array([3.999528], dtype=float32), array([3.9995375], dtype=float32), array([3.9995468], dtype=float32), array([3.9995558], dtype=float32), array([3.9995646], dtype=float32), array([3.9995735], dtype=float32), array([3.999582], dtype=float32), array([3.9995904], dtype=float32), array([3.9995985], dtype=float32), array([3.9996066], dtype=float32), array([3.9996145], dtype=float32), array([3.999622], dtype=float32), array([3.9996297], dtype=float32), array([3.9996371], dtype=float32), array([3.9996443], dtype=float32), array([3.9996514], dtype=float32), array([3.9996583], dtype=float32), array([3.9996653], dtype=float32), array([3.999672], dtype=float32), array([3.9996786], dtype=float32), array([3.999685], dtype=float32), array([3.9996912], dtype=float32), array([3.9996974], dtype=float32), array([3.9997034], dtype=float32), array([3.9997094], dtype=float32), array([3.999715], dtype=float32), array([3.9997208], dtype=float32), array([3.9997263], dtype=float32), array([3.9997318], dtype=float32), array([3.9997373], dtype=float32), array([3.9997425], dtype=float32), array([3.9997478], dtype=float32), array([3.9997528], dtype=float32), array([3.9997578], dtype=float32), array([3.9997625], dtype=float32), array([3.9997673], dtype=float32), array([3.999772], dtype=float32), array([3.9997766], dtype=float32), array([3.9997811], dtype=float32), array([3.9997854], dtype=float32), array([3.9997897], dtype=float32), array([3.999794], dtype=float32), array([3.999798], dtype=float32)]\n",
            "\n"
          ],
          "name": "stdout"
        },
        {
          "output_type": "execute_result",
          "data": {
            "text/plain": [
              "Text(0, 0.5, 'x value')"
            ]
          },
          "metadata": {
            "tags": []
          },
          "execution_count": 72
        },
        {
          "output_type": "display_data",
          "data": {
            "image/png": "[encoded data removed]",
            "text/plain": [
              "<Figure size 432x288 with 1 Axes>"
            ]
          },
          "metadata": {
            "tags": [],
            "needs_background": "light"
          }
        }
      ]
    },
    {
      "cell_type": "code",
      "metadata": {
        "id": "PXJ-_bdhohRv"
      },
      "source": [
        ""
      ],
      "execution_count": null,
      "outputs": []
    },
    {
      "cell_type": "markdown",
      "metadata": {
        "id": "pC7czCwk3ceH"
      },
      "source": [
        "`GradientTape` provides an extremely flexible framework for automatic differentiation. In order to back propagate errors through a neural network, we track forward passes on the Tape, use this information to determine the gradients, and then use these gradients for optimization using SGD."
      ]
    },
    {
      "cell_type": "markdown",
      "metadata": {
        "id": "tVNUj0ZnodFf"
      },
      "source": [
        "**Finished on March-10th-2021!**\r\n",
        "\r\n",
        "*(Student: Andrés Felipe Escallón Portilla)*\r\n"
      ]
    }
  ]
}